{
 "cells": [
  {
   "cell_type": "code",
   "execution_count": null,
   "id": "f27047ed",
   "metadata": {},
   "outputs": [],
   "source": [
    "!pip install tensorflow pydot graphviz"
   ]
  },
  {
   "cell_type": "code",
   "execution_count": 1,
   "id": "6d2955bb",
   "metadata": {},
   "outputs": [
    {
     "data": {
      "text/plain": [
       "'2.14.0'"
      ]
     },
     "execution_count": 1,
     "metadata": {},
     "output_type": "execute_result"
    }
   ],
   "source": [
    "import tensorflow as tf\n",
    "tf.__version__"
   ]
  },
  {
   "cell_type": "code",
   "execution_count": 2,
   "id": "f42ce9d6",
   "metadata": {},
   "outputs": [],
   "source": [
    "import warnings\n",
    "warnings.filterwarnings('ignore')\n",
    "\n",
    "import pandas as pd\n",
    "import numpy as np\n",
    "from sklearn.model_selection import train_test_split\n",
    "from sklearn.preprocessing import StandardScaler\n",
    "from sklearn.datasets import make_classification, make_regression\n",
    "from matplotlib import pyplot as plt\n",
    "from sklearn import set_config"
   ]
  },
  {
   "cell_type": "code",
   "execution_count": 3,
   "id": "7f01ec7c",
   "metadata": {},
   "outputs": [],
   "source": [
    "set_config(transform_output='pandas')"
   ]
  },
  {
   "cell_type": "code",
   "execution_count": 5,
   "id": "7a02ffd2",
   "metadata": {},
   "outputs": [],
   "source": [
    "x, y = make_regression(n_features=50, n_samples=10000, noise=5) \n",
    "x_c, y_c = make_classification(n_features=70, n_samples=50000, n_informative=7)"
   ]
  },
  {
   "cell_type": "code",
   "execution_count": 6,
   "id": "068527e8",
   "metadata": {},
   "outputs": [],
   "source": [
    "x_train, x_test, y_train, y_test = train_test_split(x, y, test_size=0.3, random_state=999)\n",
    "xc_train, xc_test, yc_train, yc_test = train_test_split(x_c, y_c, test_size=0.3, random_state=999)"
   ]
  },
  {
   "cell_type": "markdown",
   "id": "7c6bcc9b",
   "metadata": {},
   "source": [
    "## This Notebook Aims to Include Tensorflow related Training\n",
    "## Not realted to Solve the Problem"
   ]
  },
  {
   "cell_type": "markdown",
   "id": "0bb0e0b2",
   "metadata": {},
   "source": [
    "### Importing Tensorflow Libary and Checking the Version"
   ]
  },
  {
   "cell_type": "markdown",
   "id": "bcfdcc84",
   "metadata": {},
   "source": [
    "## Creating the Model"
   ]
  },
  {
   "cell_type": "code",
   "execution_count": 11,
   "id": "de8e165a",
   "metadata": {},
   "outputs": [],
   "source": [
    "from tensorflow.keras.models import Sequential\n",
    "# Is responsbile for combining the Layers\n",
    "from tensorflow.keras.layers import InputLayer, Dense\n",
    "# InputLayer => for Inputs (Optional)\n",
    "# Dense => Hidden layer (Fully connected Layer)"
   ]
  },
  {
   "cell_type": "code",
   "execution_count": 12,
   "id": "7e78d476",
   "metadata": {},
   "outputs": [
    {
     "data": {
      "text/plain": [
       "(7000, 50)"
      ]
     },
     "execution_count": 12,
     "metadata": {},
     "output_type": "execute_result"
    }
   ],
   "source": [
    "x_train.shape"
   ]
  },
  {
   "cell_type": "code",
   "execution_count": 23,
   "id": "f23a19f9",
   "metadata": {},
   "outputs": [],
   "source": [
    "from tensorflow.keras.losses import mean_squared_error"
   ]
  },
  {
   "cell_type": "code",
   "execution_count": 24,
   "id": "191a63a8",
   "metadata": {},
   "outputs": [],
   "source": [
    "model = Sequential()\n",
    "model.add(Input(shape=(50,)))\n",
    "model.add(Dense(units=30, activation='relu'))\n",
    "model.add(Dense(units=20, activation='softplus'))\n",
    "model.add(Dense(units=1, activation='linear'))\n",
    "model.compile(loss=mean_squared_error, optimizer='sgd', \\\n",
    "             metrics=[mean_squared_error])"
   ]
  },
  {
   "cell_type": "code",
   "execution_count": 25,
   "id": "7af3dcb1",
   "metadata": {},
   "outputs": [
    {
     "name": "stdout",
     "output_type": "stream",
     "text": [
      "Model: \"sequential_1\"\n",
      "_________________________________________________________________\n",
      " Layer (type)                Output Shape              Param #   \n",
      "=================================================================\n",
      " dense_3 (Dense)             (None, 30)                1530      \n",
      "                                                                 \n",
      " dense_4 (Dense)             (None, 20)                620       \n",
      "                                                                 \n",
      " dense_5 (Dense)             (None, 1)                 21        \n",
      "                                                                 \n",
      "=================================================================\n",
      "Total params: 2171 (8.48 KB)\n",
      "Trainable params: 2171 (8.48 KB)\n",
      "Non-trainable params: 0 (0.00 Byte)\n",
      "_________________________________________________________________\n"
     ]
    }
   ],
   "source": [
    "model.summary()"
   ]
  },
  {
   "cell_type": "code",
   "execution_count": 26,
   "id": "aedfca1c",
   "metadata": {},
   "outputs": [],
   "source": [
    "from tensorflow.keras.utils import plot_model"
   ]
  },
  {
   "cell_type": "code",
   "execution_count": 27,
   "id": "541cdf98",
   "metadata": {},
   "outputs": [
    {
     "data": {
      "image/png": "[encoded data removed]",
      "text/plain": [
       "<IPython.core.display.Image object>"
      ]
     },
     "execution_count": 27,
     "metadata": {},
     "output_type": "execute_result"
    }
   ],
   "source": [
    "plot_model(model, show_shapes=True,show_layer_activations=True)"
   ]
  },
  {
   "cell_type": "code",
   "execution_count": 28,
   "id": "05de88c0",
   "metadata": {},
   "outputs": [
    {
     "name": "stdout",
     "output_type": "stream",
     "text": [
      "Epoch 1/10\n",
      "110/110 [==============================] - 1s 6ms/step - loss: 1025471.0000 - mean_squared_error: 1025471.0000\n",
      "Epoch 2/10\n",
      "110/110 [==============================] - 1s 8ms/step - loss: 39557.6953 - mean_squared_error: 39557.6953\n",
      "Epoch 3/10\n",
      "110/110 [==============================] - 1s 5ms/step - loss: 39520.7031 - mean_squared_error: 39520.7031\n",
      "Epoch 4/10\n",
      "110/110 [==============================] - 1s 7ms/step - loss: 39523.5117 - mean_squared_error: 39523.5117\n",
      "Epoch 5/10\n",
      "110/110 [==============================] - 1s 5ms/step - loss: 39522.6836 - mean_squared_error: 39522.6836\n",
      "Epoch 6/10\n",
      "110/110 [==============================] - 1s 5ms/step - loss: 39518.7031 - mean_squared_error: 39518.7031\n",
      "Epoch 7/10\n",
      "110/110 [==============================] - 1s 5ms/step - loss: 39522.9727 - mean_squared_error: 39522.9727\n",
      "Epoch 8/10\n",
      "110/110 [==============================] - 1s 8ms/step - loss: 39508.6484 - mean_squared_error: 39508.6484\n",
      "Epoch 9/10\n",
      "110/110 [==============================] - 1s 6ms/step - loss: 39521.5391 - mean_squared_error: 39521.5391\n",
      "Epoch 10/10\n",
      "110/110 [==============================] - 1s 6ms/step - loss: 39522.9180 - mean_squared_error: 39522.9180\n"
     ]
    },
    {
     "data": {
      "text/plain": [
       "<keras.src.callbacks.History at 0x1ad91e94a50>"
      ]
     },
     "execution_count": 28,
     "metadata": {},
     "output_type": "execute_result"
    }
   ],
   "source": [
    "model.fit(x_train, y_train, batch_size=64, epochs=10)"
   ]
  },
  {
   "cell_type": "code",
   "execution_count": 29,
   "id": "52ab8ced",
   "metadata": {},
   "outputs": [
    {
     "name": "stdout",
     "output_type": "stream",
     "text": [
      "Epoch 1/10\n",
      "219/219 [==============================] - 3s 12ms/step - loss: 39519.4805 - mean_squared_error: 39519.4805\n",
      "Epoch 2/10\n",
      "219/219 [==============================] - 2s 10ms/step - loss: 39536.1328 - mean_squared_error: 39536.1328\n",
      "Epoch 3/10\n",
      "219/219 [==============================] - 2s 7ms/step - loss: 39530.2266 - mean_squared_error: 39530.2266\n",
      "Epoch 4/10\n",
      "219/219 [==============================] - 1s 7ms/step - loss: 39528.9727 - mean_squared_error: 39528.9727\n",
      "Epoch 5/10\n",
      "219/219 [==============================] - 2s 8ms/step - loss: 39522.6250 - mean_squared_error: 39522.6250\n",
      "Epoch 6/10\n",
      "219/219 [==============================] - 1s 6ms/step - loss: 39531.5156 - mean_squared_error: 39531.5156\n",
      "Epoch 7/10\n",
      "219/219 [==============================] - 2s 9ms/step - loss: 39519.3789 - mean_squared_error: 39519.3789\n",
      "Epoch 8/10\n",
      "219/219 [==============================] - 2s 11ms/step - loss: 39527.9258 - mean_squared_error: 39527.9258\n",
      "Epoch 9/10\n",
      "219/219 [==============================] - 1s 7ms/step - loss: 39530.8086 - mean_squared_error: 39530.8086\n",
      "Epoch 10/10\n",
      "219/219 [==============================] - 2s 8ms/step - loss: 39530.7188 - mean_squared_error: 39530.7188\n"
     ]
    },
    {
     "data": {
      "text/plain": [
       "<keras.src.callbacks.History at 0x1ad922497d0>"
      ]
     },
     "execution_count": 29,
     "metadata": {},
     "output_type": "execute_result"
    }
   ],
   "source": [
    "## Let's say that I want to train 10 epochs today, I want to train remaining tomorrow\n",
    "model.fit(x_train, y_train, epochs=10)"
   ]
  },
  {
   "cell_type": "code",
   "execution_count": 30,
   "id": "162e7441",
   "metadata": {},
   "outputs": [
    {
     "name": "stdout",
     "output_type": "stream",
     "text": [
      "Epoch 11/20\n",
      "219/219 [==============================] - 1s 5ms/step - loss: 39532.3164 - mean_squared_error: 39532.3164\n",
      "Epoch 12/20\n",
      "219/219 [==============================] - 1s 6ms/step - loss: 39528.0352 - mean_squared_error: 39528.0352\n",
      "Epoch 13/20\n",
      "219/219 [==============================] - 1s 5ms/step - loss: 39531.7422 - mean_squared_error: 39531.7422\n",
      "Epoch 14/20\n",
      "219/219 [==============================] - 1s 5ms/step - loss: 39528.4727 - mean_squared_error: 39528.4727\n",
      "Epoch 15/20\n",
      "219/219 [==============================] - 1s 5ms/step - loss: 39527.0391 - mean_squared_error: 39527.0391\n",
      "Epoch 16/20\n",
      "219/219 [==============================] - 1s 5ms/step - loss: 39524.7695 - mean_squared_error: 39524.7695\n",
      "Epoch 17/20\n",
      "219/219 [==============================] - 2s 8ms/step - loss: 39524.9297 - mean_squared_error: 39524.9297\n",
      "Epoch 18/20\n",
      "219/219 [==============================] - 2s 7ms/step - loss: 39531.0859 - mean_squared_error: 39531.0859\n",
      "Epoch 19/20\n",
      "219/219 [==============================] - 1s 7ms/step - loss: 39526.5156 - mean_squared_error: 39526.5156\n",
      "Epoch 20/20\n",
      "219/219 [==============================] - 1s 7ms/step - loss: 39531.9180 - mean_squared_error: 39531.9180\n"
     ]
    },
    {
     "data": {
      "text/plain": [
       "<keras.src.callbacks.History at 0x1ad92203410>"
      ]
     },
     "execution_count": 30,
     "metadata": {},
     "output_type": "execute_result"
    }
   ],
   "source": [
    "model.fit(x_train, y_train, epochs=20, initial_epoch=10)"
   ]
  },
  {
   "cell_type": "code",
   "execution_count": 31,
   "id": "2c21fe86",
   "metadata": {},
   "outputs": [
    {
     "name": "stdout",
     "output_type": "stream",
     "text": [
      "Epoch 21/25\n",
      "219/219 [==============================] - 1s 5ms/step - loss: 39528.3516 - mean_squared_error: 39528.3516\n",
      "Epoch 22/25\n",
      "219/219 [==============================] - 1s 7ms/step - loss: 39497.2695 - mean_squared_error: 39497.2695\n",
      "Epoch 23/25\n",
      "219/219 [==============================] - 1s 5ms/step - loss: 39533.4609 - mean_squared_error: 39533.4609\n",
      "Epoch 24/25\n",
      "219/219 [==============================] - 1s 5ms/step - loss: 39526.7344 - mean_squared_error: 39526.7344\n",
      "Epoch 25/25\n",
      "219/219 [==============================] - 2s 7ms/step - loss: 39518.8516 - mean_squared_error: 39518.8516\n"
     ]
    }
   ],
   "source": [
    "history = model.fit(x_train, y_train, epochs=25, initial_epoch=20)"
   ]
  },
  {
   "cell_type": "code",
   "execution_count": 38,
   "id": "5b4b5f83",
   "metadata": {},
   "outputs": [
    {
     "name": "stdout",
     "output_type": "stream",
     "text": [
      "[39528.3515625, 39497.26953125, 39533.4609375, 39526.734375, 39518.8515625]\n",
      "[39528.3515625, 39497.26953125, 39533.4609375, 39526.734375, 39518.8515625]\n"
     ]
    }
   ],
   "source": [
    "print(history.history['loss'])\n",
    "print(history.history['mean_squared_error'])"
   ]
  },
  {
   "cell_type": "code",
   "execution_count": 39,
   "id": "7e165252",
   "metadata": {},
   "outputs": [],
   "source": [
    "model = Sequential()\n",
    "#model.add(Input(shape=(50,)))\n",
    "model.add(Dense(units=30, input_dim=50, activation='relu'))\n",
    "model.add(Dense(units=20, activation='softplus'))\n",
    "model.add(Dense(units=1, activation='linear'))\n",
    "model.compile(loss=mean_squared_error, optimizer='sgd', \\\n",
    "             metrics=[mean_squared_error])"
   ]
  },
  {
   "cell_type": "code",
   "execution_count": 40,
   "id": "cd1560f2",
   "metadata": {},
   "outputs": [
    {
     "name": "stdout",
     "output_type": "stream",
     "text": [
      "Epoch 1/5\n",
      "219/219 [==============================] - 2s 5ms/step - loss: 2139578358038528.0000 - mean_squared_error: 2139578358038528.0000\n",
      "Epoch 2/5\n",
      "219/219 [==============================] - 2s 8ms/step - loss: 3132050944.0000 - mean_squared_error: 3132050944.0000\n",
      "Epoch 3/5\n",
      "219/219 [==============================] - 1s 4ms/step - loss: 490473.8438 - mean_squared_error: 490473.8438\n",
      "Epoch 4/5\n",
      "219/219 [==============================] - 1s 5ms/step - loss: 39628.6445 - mean_squared_error: 39628.6445\n",
      "Epoch 5/5\n",
      "219/219 [==============================] - 1s 6ms/step - loss: 39531.5664 - mean_squared_error: 39531.5664\n"
     ]
    },
    {
     "data": {
      "text/plain": [
       "<keras.src.callbacks.History at 0x1ad952b72d0>"
      ]
     },
     "execution_count": 40,
     "metadata": {},
     "output_type": "execute_result"
    }
   ],
   "source": [
    "model.fit(x_train, y_train, epochs=5)"
   ]
  },
  {
   "cell_type": "code",
   "execution_count": 41,
   "id": "a74fe220",
   "metadata": {},
   "outputs": [
    {
     "name": "stdout",
     "output_type": "stream",
     "text": [
      "Model: \"sequential_2\"\n",
      "_________________________________________________________________\n",
      " Layer (type)                Output Shape              Param #   \n",
      "=================================================================\n",
      " dense_6 (Dense)             (None, 30)                1530      \n",
      "                                                                 \n",
      " dense_7 (Dense)             (None, 20)                620       \n",
      "                                                                 \n",
      " dense_8 (Dense)             (None, 1)                 21        \n",
      "                                                                 \n",
      "=================================================================\n",
      "Total params: 2171 (8.48 KB)\n",
      "Trainable params: 2171 (8.48 KB)\n",
      "Non-trainable params: 0 (0.00 Byte)\n",
      "_________________________________________________________________\n"
     ]
    }
   ],
   "source": [
    "model.summary()"
   ]
  },
  {
   "cell_type": "code",
   "execution_count": 43,
   "id": "2c03bd8e",
   "metadata": {},
   "outputs": [
    {
     "data": {
      "image/png": "[encoded data removed]",
      "text/plain": [
       "<IPython.core.display.Image object>"
      ]
     },
     "execution_count": 43,
     "metadata": {},
     "output_type": "execute_result"
    }
   ],
   "source": [
    "plot_model(model, show_shapes=True)"
   ]
  },
  {
   "cell_type": "code",
   "execution_count": 44,
   "id": "8b3c13de",
   "metadata": {},
   "outputs": [],
   "source": [
    "## Save Model\n",
    "model.save(\"FirstNNmodel.h5\")"
   ]
  },
  {
   "cell_type": "code",
   "execution_count": 45,
   "id": "9f9d76d2",
   "metadata": {},
   "outputs": [],
   "source": [
    "# Load the Model\n",
    "from tensorflow.keras.models import load_model"
   ]
  },
  {
   "cell_type": "code",
   "execution_count": 46,
   "id": "6b7eda24",
   "metadata": {},
   "outputs": [],
   "source": [
    "model1 = load_model(\"FirstNNmodel.h5\")"
   ]
  },
  {
   "cell_type": "code",
   "execution_count": 47,
   "id": "675fc595",
   "metadata": {},
   "outputs": [
    {
     "name": "stdout",
     "output_type": "stream",
     "text": [
      "94/94 [==============================] - 1s 4ms/step\n"
     ]
    },
    {
     "data": {
      "text/plain": [
       "array([[-0.9963213],\n",
       "       [-0.9963213],\n",
       "       [-0.9963213],\n",
       "       ...,\n",
       "       [-0.9963213],\n",
       "       [-0.9963213],\n",
       "       [-0.9963213]], dtype=float32)"
      ]
     },
     "execution_count": 47,
     "metadata": {},
     "output_type": "execute_result"
    }
   ],
   "source": [
    "## Predict\n",
    "model1.predict(x_test)"
   ]
  },
  {
   "cell_type": "code",
   "execution_count": 49,
   "id": "a4327d42",
   "metadata": {},
   "outputs": [
    {
     "data": {
      "text/plain": [
       "[39951.53515625, 39951.53515625]"
      ]
     },
     "execution_count": 49,
     "metadata": {},
     "output_type": "execute_result"
    }
   ],
   "source": [
    "## Evaluate the Model\n",
    "model1.evaluate(x_test, y_test, verbose=0)\n",
    "# First is loss, second one is metric"
   ]
  },
  {
   "cell_type": "code",
   "execution_count": 2,
   "id": "e630b9d5",
   "metadata": {},
   "outputs": [],
   "source": [
    "## Lets Create basic Model First\n",
    "\n",
    "# Sequential => Will add multiple Layers together. \n",
    "from tensorflow.keras.models import Sequential\n",
    "# Dense => Will create a Fully connected Layer\n",
    "from tensorflow.keras.layers import Dense"
   ]
  },
  {
   "cell_type": "code",
   "execution_count": 10,
   "id": "ead3bc24",
   "metadata": {},
   "outputs": [
    {
     "data": {
      "text/plain": [
       "(209673, 7)"
      ]
     },
     "execution_count": 10,
     "metadata": {},
     "output_type": "execute_result"
    }
   ],
   "source": [
    "x_train.shape"
   ]
  },
  {
   "cell_type": "code",
   "execution_count": 11,
   "id": "2da34128",
   "metadata": {},
   "outputs": [],
   "source": [
    "# One Can Follow Two ways to create Feed Forward Neural Networks \n",
    "\n",
    "# First Way => Create Model, add Layer by Layer\n",
    "model = Sequential() # Create object for adding layers sequentially =\n",
    "model.add(Dense(5, input_dim=7, activation='relu')) # => Add Layers => First Layer Would be input layer. as the input contains 7 columns,\n",
    "# Number of neurons in input layer should be = 7. 5 Being the Number of outputs coming out of Each input neuron \n",
    "model.add(Dense(3, activation='softplus')) # Adding Another Layer with softplus activation function\n",
    "model.add(Dense(1, activation='sigmoid')) # Output Layer with sigmoid as activation function for binary Classification\n",
    "          "
   ]
  },
  {
   "cell_type": "code",
   "execution_count": 12,
   "id": "7123f0d4",
   "metadata": {},
   "outputs": [
    {
     "name": "stdout",
     "output_type": "stream",
     "text": [
      "Model: \"sequential\"\n",
      "_________________________________________________________________\n",
      " Layer (type)                Output Shape              Param #   \n",
      "=================================================================\n",
      " dense (Dense)               (None, 5)                 40        \n",
      "                                                                 \n",
      " dense_1 (Dense)             (None, 3)                 18        \n",
      "                                                                 \n",
      " dense_2 (Dense)             (None, 1)                 4         \n",
      "                                                                 \n",
      "=================================================================\n",
      "Total params: 62\n",
      "Trainable params: 62\n",
      "Non-trainable params: 0\n",
      "_________________________________________________________________\n"
     ]
    }
   ],
   "source": [
    "model.summary() # To Check the Model "
   ]
  },
  {
   "cell_type": "code",
   "execution_count": 9,
   "id": "de0ae71a",
   "metadata": {},
   "outputs": [],
   "source": [
    "# If Needed to display in Diagram\n",
    "from tensorflow.keras.utils import plot_model\n",
    "# Needed pydot and graphviz needed to be installed to display\n",
    "# pip install pydot graphviz"
   ]
  },
  {
   "cell_type": "code",
   "execution_count": 14,
   "id": "f935c22c",
   "metadata": {},
   "outputs": [
    {
     "data": {
      "image/png": "[encoded data removed]",
      "text/plain": [
       "<IPython.core.display.Image object>"
      ]
     },
     "execution_count": 14,
     "metadata": {},
     "output_type": "execute_result"
    }
   ],
   "source": [
    "plot_model(model, show_shapes=True, show_layer_activations=True)"
   ]
  },
  {
   "cell_type": "code",
   "execution_count": 15,
   "id": "a8aa363f",
   "metadata": {},
   "outputs": [],
   "source": [
    "## Compiling the Model\n",
    "model.compile(optimizer='adam', loss=tf.keras.losses.binary_crossentropy, metrics=['accuracy'])"
   ]
  },
  {
   "cell_type": "code",
   "execution_count": 16,
   "id": "26b26313",
   "metadata": {
    "scrolled": true
   },
   "outputs": [
    {
     "name": "stdout",
     "output_type": "stream",
     "text": [
      "Epoch 1/10\n",
      "6553/6553 [==============================] - 9s 1ms/step - loss: 0.0771 - accuracy: 0.9669\n",
      "Epoch 2/10\n",
      "6553/6553 [==============================] - 9s 1ms/step - loss: 0.0232 - accuracy: 0.9935\n",
      "Epoch 3/10\n",
      "6553/6553 [==============================] - 9s 1ms/step - loss: 0.0224 - accuracy: 0.9935\n",
      "Epoch 4/10\n",
      "6553/6553 [==============================] - 9s 1ms/step - loss: 0.0223 - accuracy: 0.9935\n",
      "Epoch 5/10\n",
      "6553/6553 [==============================] - 9s 1ms/step - loss: 0.0221 - accuracy: 0.9935\n",
      "Epoch 6/10\n",
      "6553/6553 [==============================] - 9s 1ms/step - loss: 0.0221 - accuracy: 0.9935\n",
      "Epoch 7/10\n",
      "6553/6553 [==============================] - 9s 1ms/step - loss: 0.0216 - accuracy: 0.9935\n",
      "Epoch 8/10\n",
      "6553/6553 [==============================] - 9s 1ms/step - loss: 0.0207 - accuracy: 0.9935\n",
      "Epoch 9/10\n",
      "6553/6553 [==============================] - 9s 1ms/step - loss: 0.0194 - accuracy: 0.9935\n",
      "Epoch 10/10\n",
      "6553/6553 [==============================] - 9s 1ms/step - loss: 0.0179 - accuracy: 0.9935\n"
     ]
    }
   ],
   "source": [
    "# Training the Model\n",
    "history = model.fit(x_train_processed, y_train, epochs=10)"
   ]
  },
  {
   "cell_type": "code",
   "execution_count": 17,
   "id": "61f8073c",
   "metadata": {},
   "outputs": [
    {
     "data": {
      "text/plain": [
       "dict_keys(['loss', 'accuracy'])"
      ]
     },
     "execution_count": 17,
     "metadata": {},
     "output_type": "execute_result"
    }
   ],
   "source": [
    "history.history.keys()"
   ]
  },
  {
   "cell_type": "code",
   "execution_count": 18,
   "id": "5b170b65",
   "metadata": {},
   "outputs": [
    {
     "data": {
      "image/png": "[encoded data removed]",
      "text/plain": [
       "<Figure size 640x480 with 2 Axes>"
      ]
     },
     "metadata": {},
     "output_type": "display_data"
    }
   ],
   "source": [
    "fig, ax = plt.subplots()\n",
    "ax2 = ax.twinx()\n",
    "ax2.plot(history.history['loss'], label='Loss', marker='o', mec='k', ms=8, mfc='orange')\n",
    "ax2.plot(history.history['accuracy'], label='Accuracy', marker='*', ms=10, mec='k', mfc='red')\n",
    "#plt.grid()\n",
    "plt.legend()\n",
    "plt.ylabel(\"Loss and Accuracy\")\n",
    "plt.title(\"Loss & Accuracy over the Epochs\")\n",
    "plt.show()"
   ]
  },
  {
   "cell_type": "code",
   "execution_count": 19,
   "id": "9582ef2a",
   "metadata": {},
   "outputs": [
    {
     "name": "stdout",
     "output_type": "stream",
     "text": [
      "2809/2809 [==============================] - 3s 1ms/step - loss: 0.0391 - accuracy: 0.9921\n"
     ]
    },
    {
     "data": {
      "text/plain": [
       "[0.03907701000571251, 0.9920544028282166]"
      ]
     },
     "execution_count": 19,
     "metadata": {},
     "output_type": "execute_result"
    }
   ],
   "source": [
    "#  Evaluating on test data\n",
    "model.evaluate(x_test_processed, y_test)"
   ]
  },
  {
   "cell_type": "code",
   "execution_count": 20,
   "id": "389ea9c9",
   "metadata": {},
   "outputs": [
    {
     "name": "stdout",
     "output_type": "stream",
     "text": [
      "2809/2809 [==============================] - 3s 929us/step\n"
     ]
    }
   ],
   "source": [
    "## Predict the Result\n",
    "y_pred = model.predict(x_test_processed)"
   ]
  },
  {
   "cell_type": "code",
   "execution_count": 10,
   "id": "6ab85cfa",
   "metadata": {},
   "outputs": [],
   "source": [
    "from sklearn.metrics import accuracy_score, classification_report"
   ]
  },
  {
   "cell_type": "code",
   "execution_count": 22,
   "id": "ccf73225",
   "metadata": {},
   "outputs": [
    {
     "name": "stdout",
     "output_type": "stream",
     "text": [
      "              precision    recall  f1-score   support\n",
      "\n",
      "           0       0.99      1.00      0.99     64495\n",
      "           1       0.99      0.98      0.99     25366\n",
      "\n",
      "    accuracy                           0.99     89861\n",
      "   macro avg       0.99      0.99      0.99     89861\n",
      "weighted avg       0.99      0.99      0.99     89861\n",
      "\n"
     ]
    }
   ],
   "source": [
    "print(classification_report(y_test, np.around(y_pred)))"
   ]
  },
  {
   "cell_type": "markdown",
   "id": "f355ce58",
   "metadata": {},
   "source": [
    "## Saving and loading the Model"
   ]
  },
  {
   "cell_type": "code",
   "execution_count": 23,
   "id": "66e608c8",
   "metadata": {},
   "outputs": [],
   "source": [
    "import os\n",
    "if not os.path.isdir(\"SavedModels\"):\n",
    "    os.mkdir(\"SavedModels\")\n",
    "if not os.path.isdir(\"TaxiFare\"):\n",
    "    os.mkdir(\"TaxiFare\")"
   ]
  },
  {
   "cell_type": "code",
   "execution_count": 24,
   "id": "50ab9dfe",
   "metadata": {},
   "outputs": [],
   "source": [
    "# saving the Entire Tensorflow model\n",
    "model.save(\"SavedModels/TaxiFare/model_2606.h5\")"
   ]
  },
  {
   "cell_type": "code",
   "execution_count": 25,
   "id": "409e2c06",
   "metadata": {},
   "outputs": [],
   "source": [
    "# Loading the Model\n",
    "model_loaded = tf.keras.models.load_model(\"SavedModels/TaxiFare/model_2606.h5\")"
   ]
  },
  {
   "cell_type": "code",
   "execution_count": 26,
   "id": "fc0759a5",
   "metadata": {},
   "outputs": [
    {
     "name": "stdout",
     "output_type": "stream",
     "text": [
      "2809/2809 [==============================] - 3s 1ms/step - loss: 0.0391 - accuracy: 0.9921\n"
     ]
    },
    {
     "data": {
      "text/plain": [
       "[0.03907701000571251, 0.9920544028282166]"
      ]
     },
     "execution_count": 26,
     "metadata": {},
     "output_type": "execute_result"
    }
   ],
   "source": [
    "model_loaded.evaluate(x_test_processed, y_test)"
   ]
  },
  {
   "cell_type": "markdown",
   "id": "780420fd",
   "metadata": {},
   "source": [
    "#### Saving Only weights and Saving during/after training the model only"
   ]
  },
  {
   "cell_type": "code",
   "execution_count": 3,
   "id": "9edde6ff",
   "metadata": {},
   "outputs": [],
   "source": [
    "from tensorflow.keras.callbacks import ModelCheckpoint"
   ]
  },
  {
   "cell_type": "code",
   "execution_count": 4,
   "id": "012048a2",
   "metadata": {},
   "outputs": [],
   "source": [
    "checkpoint_cb = ModelCheckpoint(filepath=\"SavedModels/TaxiFare\", save_weights_only=True, verbose=1)"
   ]
  },
  {
   "cell_type": "code",
   "execution_count": 29,
   "id": "4e6a758b",
   "metadata": {},
   "outputs": [
    {
     "name": "stdout",
     "output_type": "stream",
     "text": [
      "Epoch 1/10\n",
      "6517/6553 [============================>.] - ETA: 0s - loss: 0.0168 - accuracy: 0.9926\n",
      "Epoch 1: saving model to SavedModels/TaxiFare\n",
      "6553/6553 [==============================] - 9s 1ms/step - loss: 0.0168 - accuracy: 0.9926\n",
      "Epoch 2/10\n",
      "6549/6553 [============================>.] - ETA: 0s - loss: 0.0160 - accuracy: 0.9933\n",
      "Epoch 2: saving model to SavedModels/TaxiFare\n",
      "6553/6553 [==============================] - 9s 1ms/step - loss: 0.0160 - accuracy: 0.9933\n",
      "Epoch 3/10\n",
      "6523/6553 [============================>.] - ETA: 0s - loss: 0.0155 - accuracy: 0.9950\n",
      "Epoch 3: saving model to SavedModels/TaxiFare\n",
      "6553/6553 [==============================] - 9s 1ms/step - loss: 0.0155 - accuracy: 0.9950\n",
      "Epoch 4/10\n",
      "6543/6553 [============================>.] - ETA: 0s - loss: 0.0152 - accuracy: 0.9957\n",
      "Epoch 4: saving model to SavedModels/TaxiFare\n",
      "6553/6553 [==============================] - 9s 1ms/step - loss: 0.0152 - accuracy: 0.9957\n",
      "Epoch 5/10\n",
      "6547/6553 [============================>.] - ETA: 0s - loss: 0.0150 - accuracy: 0.9958\n",
      "Epoch 5: saving model to SavedModels/TaxiFare\n",
      "6553/6553 [==============================] - 9s 1ms/step - loss: 0.0150 - accuracy: 0.9958\n",
      "Epoch 6/10\n",
      "6521/6553 [============================>.] - ETA: 0s - loss: 0.0148 - accuracy: 0.9959\n",
      "Epoch 6: saving model to SavedModels/TaxiFare\n",
      "6553/6553 [==============================] - 9s 1ms/step - loss: 0.0148 - accuracy: 0.9959\n",
      "Epoch 7/10\n",
      "6526/6553 [============================>.] - ETA: 0s - loss: 0.0146 - accuracy: 0.9961\n",
      "Epoch 7: saving model to SavedModels/TaxiFare\n",
      "6553/6553 [==============================] - 9s 1ms/step - loss: 0.0147 - accuracy: 0.9961\n",
      "Epoch 8/10\n",
      "6524/6553 [============================>.] - ETA: 0s - loss: 0.0146 - accuracy: 0.9960\n",
      "Epoch 8: saving model to SavedModels/TaxiFare\n",
      "6553/6553 [==============================] - 9s 1ms/step - loss: 0.0146 - accuracy: 0.9960\n",
      "Epoch 9/10\n",
      "6545/6553 [============================>.] - ETA: 0s - loss: 0.0145 - accuracy: 0.9960\n",
      "Epoch 9: saving model to SavedModels/TaxiFare\n",
      "6553/6553 [==============================] - 9s 1ms/step - loss: 0.0145 - accuracy: 0.9960\n",
      "Epoch 10/10\n",
      "6534/6553 [============================>.] - ETA: 0s - loss: 0.0144 - accuracy: 0.9961\n",
      "Epoch 10: saving model to SavedModels/TaxiFare\n",
      "6553/6553 [==============================] - 9s 1ms/step - loss: 0.0144 - accuracy: 0.9961\n"
     ]
    }
   ],
   "source": [
    "history = model.fit(x_train_processed, y_train, epochs=10, callbacks=[checkpoint_cb])"
   ]
  },
  {
   "cell_type": "code",
   "execution_count": 30,
   "id": "8852e5f3",
   "metadata": {},
   "outputs": [
    {
     "data": {
      "text/plain": [
       "['TaxiFare.data-00000-of-00001',\n",
       " 'TaxiFare-0002.ckpt.data-00000-of-00001',\n",
       " 'TaxiFare-0012.ckpt.index',\n",
       " 'TaxiFare-0004.ckpt.data-00000-of-00001',\n",
       " 'TaxiFare-0015.ckpt.index',\n",
       " 'TaxiFare.index',\n",
       " 'TaxiFare-0001.ckpt.data-00000-of-00001',\n",
       " 'TaxiFare-0003.ckpt.data-00000-of-00001',\n",
       " 'TaxiFare-0007.ckpt.data-00000-of-00001',\n",
       " 'TaxiFare-0010.ckpt.index',\n",
       " 'TaxiFare-0007.ckpt.index',\n",
       " 'TaxiFare-0006.ckpt.index',\n",
       " 'TaxiFare-0013.ckpt.data-00000-of-00001',\n",
       " 'TaxiFare',\n",
       " 'TaxiFare-0005.ckpt.data-00000-of-00001',\n",
       " 'TaxiFare-0008.ckpt.data-00000-of-00001',\n",
       " 'TaxiFare-0004.ckpt.index',\n",
       " 'TaxiFare-0008.ckpt.index',\n",
       " 'TaxiFare-0016.ckpt.data-00000-of-00001',\n",
       " 'TaxiFare-0005.ckpt.index',\n",
       " 'TaxiFare-0014.ckpt.index',\n",
       " 'TaxiFare-0010.ckpt.data-00000-of-00001',\n",
       " 'TaxiFare-0011.ckpt.data-00000-of-00001',\n",
       " 'TaxiFare-0006.ckpt.data-00000-of-00001',\n",
       " 'TaxiFare-0015.ckpt.data-00000-of-00001',\n",
       " 'TaxiFare-0011.ckpt.index',\n",
       " 'TaxiFare-0002.ckpt.index',\n",
       " 'TaxiFare-0013.ckpt.index',\n",
       " 'TaxiFare-0000.ckpt.data-00000-of-00001',\n",
       " 'TaxiFare-0003.ckpt.index',\n",
       " 'TaxiFare-0009.ckpt.data-00000-of-00001',\n",
       " 'TaxiFare-0012.ckpt.data-00000-of-00001',\n",
       " 'TaxiFare-0000.ckpt.index',\n",
       " 'checkpoint',\n",
       " 'TaxiFare-0001.ckpt.index',\n",
       " 'TaxiFare-0014.ckpt.data-00000-of-00001',\n",
       " 'TaxiFare-0009.ckpt.index',\n",
       " 'TaxiFare-0016.ckpt.index']"
      ]
     },
     "execution_count": 30,
     "metadata": {},
     "output_type": "execute_result"
    }
   ],
   "source": [
    "os.listdir(\"SavedModels\")"
   ]
  },
  {
   "cell_type": "code",
   "execution_count": 31,
   "id": "e8dd4d9d",
   "metadata": {},
   "outputs": [
    {
     "data": {
      "text/plain": [
       "<tensorflow.python.checkpoint.checkpoint.CheckpointLoadStatus at 0x7f12b004ead0>"
      ]
     },
     "execution_count": 31,
     "metadata": {},
     "output_type": "execute_result"
    }
   ],
   "source": [
    "## Load the Weights Back from Checkpoint back\n",
    "\n",
    "# For this => Create Same Model with exact architecture, and load weights\n",
    "\n",
    "# One can use same variable to reload, but lets create new one instead\n",
    "saved_weights_model = Sequential()\n",
    "saved_weights_model.add(Dense(5, input_dim=7, activation='relu'))\n",
    "saved_weights_model.add(Dense(3, activation='softplus'))\n",
    "saved_weights_model.add(Dense(1, activation='sigmoid'))\n",
    "saved_weights_model.compile(optimizer='adam', loss=tf.keras.losses.binary_crossentropy, metrics=['accuracy'])\n",
    "\n",
    "saved_weights_model.load_weights(\"SavedModels/TaxiFare\")"
   ]
  },
  {
   "cell_type": "code",
   "execution_count": 32,
   "id": "b3bc002b",
   "metadata": {},
   "outputs": [
    {
     "name": "stdout",
     "output_type": "stream",
     "text": [
      "2809/2809 [==============================] - 3s 1ms/step - loss: 0.0963 - accuracy: 0.9919\n"
     ]
    },
    {
     "data": {
      "text/plain": [
       "[0.09628888964653015, 0.9918763637542725]"
      ]
     },
     "execution_count": 32,
     "metadata": {},
     "output_type": "execute_result"
    }
   ],
   "source": [
    "# Evaluating with Model which was retrieved from the Saved Loaded Weights\n",
    "saved_weights_model.evaluate(x_test_processed, y_test)"
   ]
  },
  {
   "cell_type": "markdown",
   "id": "59b39215",
   "metadata": {},
   "source": [
    "## Activation Functions"
   ]
  },
  {
   "cell_type": "code",
   "execution_count": 13,
   "id": "ca1a57df",
   "metadata": {},
   "outputs": [],
   "source": [
    "from tensorflow.keras.layers import LeakyReLU, PReLU"
   ]
  },
  {
   "cell_type": "code",
   "execution_count": 34,
   "id": "7826b18a",
   "metadata": {},
   "outputs": [],
   "source": [
    "## Trying Different Activation Functions via Second Way\n",
    "# Instead of Adding, One can use Sequential with list of Tuples\n",
    "l_relu = LeakyReLU(alpha=0.01)\n",
    "p_relu = PReLU()\n",
    "new_model = Sequential([Dense(5, input_dim=7, activation='relu'),\\\n",
    "                       Dense(3,  activation=l_relu),\\\n",
    "                       Dense(3, activation=p_relu),\\\n",
    "                       Dense(2, activation='elu'),\\\n",
    "                       Dense(2, activation='selu'),\\\n",
    "                       Dense(2, activation='softplus'),\\\n",
    "                       Dense(1, activation='tanh'),\\\n",
    "                       Dense(1, activation='sigmoid')])\n",
    "new_model.compile(optimizer='adam', loss=tf.keras.losses.BinaryCrossentropy(from_logits=False), metrics=['accuracy'])"
   ]
  },
  {
   "cell_type": "code",
   "execution_count": 35,
   "id": "66d93500",
   "metadata": {},
   "outputs": [
    {
     "name": "stdout",
     "output_type": "stream",
     "text": [
      "Model: \"sequential_2\"\n",
      "_________________________________________________________________\n",
      " Layer (type)                Output Shape              Param #   \n",
      "=================================================================\n",
      " dense_6 (Dense)             (None, 5)                 40        \n",
      "                                                                 \n",
      " dense_7 (Dense)             (None, 3)                 18        \n",
      "                                                                 \n",
      " dense_8 (Dense)             (None, 3)                 15        \n",
      "                                                                 \n",
      " dense_9 (Dense)             (None, 2)                 8         \n",
      "                                                                 \n",
      " dense_10 (Dense)            (None, 2)                 6         \n",
      "                                                                 \n",
      " dense_11 (Dense)            (None, 2)                 6         \n",
      "                                                                 \n",
      " dense_12 (Dense)            (None, 1)                 3         \n",
      "                                                                 \n",
      " dense_13 (Dense)            (None, 1)                 2         \n",
      "                                                                 \n",
      "=================================================================\n",
      "Total params: 98\n",
      "Trainable params: 98\n",
      "Non-trainable params: 0\n",
      "_________________________________________________________________\n"
     ]
    }
   ],
   "source": [
    "new_model.summary()"
   ]
  },
  {
   "cell_type": "code",
   "execution_count": 36,
   "id": "b81ac58f",
   "metadata": {},
   "outputs": [
    {
     "name": "stdout",
     "output_type": "stream",
     "text": [
      "Epoch 1/10\n",
      "6553/6553 [==============================] - 12s 2ms/step - loss: 0.1309 - accuracy: 0.9779\n",
      "Epoch 2/10\n",
      "6553/6553 [==============================] - 10s 2ms/step - loss: 0.0268 - accuracy: 0.9932\n",
      "Epoch 3/10\n",
      "6553/6553 [==============================] - 10s 2ms/step - loss: 0.0242 - accuracy: 0.9933\n",
      "Epoch 4/10\n",
      "6553/6553 [==============================] - 11s 2ms/step - loss: 0.0235 - accuracy: 0.9933\n",
      "Epoch 5/10\n",
      "6553/6553 [==============================] - 11s 2ms/step - loss: 0.0230 - accuracy: 0.9934\n",
      "Epoch 6/10\n",
      "6553/6553 [==============================] - 11s 2ms/step - loss: 0.0227 - accuracy: 0.9934\n",
      "Epoch 7/10\n",
      "6553/6553 [==============================] - 10s 2ms/step - loss: 0.0232 - accuracy: 0.9934\n",
      "Epoch 8/10\n",
      "6553/6553 [==============================] - 10s 2ms/step - loss: 0.0226 - accuracy: 0.9934\n",
      "Epoch 9/10\n",
      "6553/6553 [==============================] - 11s 2ms/step - loss: 0.0227 - accuracy: 0.9934\n",
      "Epoch 10/10\n",
      "6553/6553 [==============================] - 10s 2ms/step - loss: 0.0222 - accuracy: 0.9935\n"
     ]
    },
    {
     "data": {
      "text/plain": [
       "<keras.callbacks.History at 0x7f129c770c40>"
      ]
     },
     "execution_count": 36,
     "metadata": {},
     "output_type": "execute_result"
    }
   ],
   "source": [
    "new_model.fit(x_train_processed, y_train, batch_size=32, epochs=10)"
   ]
  },
  {
   "cell_type": "markdown",
   "id": "6024d764",
   "metadata": {},
   "source": [
    "### Regularization (L1, L2)"
   ]
  },
  {
   "cell_type": "code",
   "execution_count": 37,
   "id": "75f287e1",
   "metadata": {},
   "outputs": [],
   "source": [
    "# One Can use InputLayer also instead of Dense if needed for Input Layer"
   ]
  },
  {
   "cell_type": "code",
   "execution_count": 14,
   "id": "01459fcd",
   "metadata": {},
   "outputs": [],
   "source": [
    "from tensorflow.keras.regularizers import L1, L2, L1L2"
   ]
  },
  {
   "cell_type": "code",
   "execution_count": 75,
   "id": "1f2994bb",
   "metadata": {},
   "outputs": [],
   "source": [
    "# L2 Regularization\n",
    "r_model = Sequential([Dense(6, input_dim=7, activation='relu', kernel_regularizer=L2(0.1)),\\\n",
    "                      Dense(1,activation='sigmoid', kernel_regularizer=L2(0.1))])\n",
    "r_model.compile(optimizer='adam', loss=tf.keras.losses.binary_crossentropy, metrics=['accuracy'])"
   ]
  },
  {
   "cell_type": "code",
   "execution_count": 67,
   "id": "12b3365e",
   "metadata": {},
   "outputs": [
    {
     "data": {
      "image/png": "[encoded data removed]",
      "text/plain": [
       "<IPython.core.display.Image object>"
      ]
     },
     "execution_count": 67,
     "metadata": {},
     "output_type": "execute_result"
    }
   ],
   "source": [
    "plot_model(r_model, show_shapes=True)"
   ]
  },
  {
   "cell_type": "code",
   "execution_count": 76,
   "id": "717ff48d",
   "metadata": {},
   "outputs": [
    {
     "name": "stdout",
     "output_type": "stream",
     "text": [
      "Epoch 1/3\n",
      "6553/6553 [==============================] - 9s 1ms/step - loss: 0.5715 - accuracy: 0.7806\n",
      "Epoch 2/3\n",
      "6553/6553 [==============================] - 8s 1ms/step - loss: 0.5286 - accuracy: 0.8248\n",
      "Epoch 3/3\n",
      "6553/6553 [==============================] - 8s 1ms/step - loss: 0.5278 - accuracy: 0.8346\n"
     ]
    },
    {
     "data": {
      "text/plain": [
       "<keras.callbacks.History at 0x7f129d154b20>"
      ]
     },
     "execution_count": 76,
     "metadata": {},
     "output_type": "execute_result"
    }
   ],
   "source": [
    "r_model.fit(x_train_processed, y_train, batch_size=32, epochs=3, workers=8, use_multiprocessing=True)"
   ]
  },
  {
   "cell_type": "code",
   "execution_count": 77,
   "id": "530eb58c",
   "metadata": {},
   "outputs": [],
   "source": [
    "# L1 Regularizer\n",
    "r_model = Sequential([Dense(6, input_dim=7, activation='relu', kernel_regularizer=L1(0.1)),\\\n",
    "                      Dense(1,activation='sigmoid', kernel_regularizer=L1(0.1))])\n",
    "r_model.compile(optimizer='adam', loss=tf.keras.losses.binary_crossentropy, metrics=['accuracy'])"
   ]
  },
  {
   "cell_type": "code",
   "execution_count": 78,
   "id": "0d7f6074",
   "metadata": {},
   "outputs": [
    {
     "name": "stdout",
     "output_type": "stream",
     "text": [
      "Epoch 1/2\n",
      "6553/6553 [==============================] - 9s 1ms/step - loss: 0.6596 - accuracy: 0.7201\n",
      "Epoch 2/2\n",
      "6553/6553 [==============================] - 8s 1ms/step - loss: 0.5941 - accuracy: 0.7195\n"
     ]
    },
    {
     "data": {
      "text/plain": [
       "<keras.callbacks.History at 0x7f129c91a4a0>"
      ]
     },
     "execution_count": 78,
     "metadata": {},
     "output_type": "execute_result"
    }
   ],
   "source": [
    "r_model.fit(x_train_processed, y_train, batch_size=32, epochs=2, workers=8, use_multiprocessing=True)"
   ]
  },
  {
   "cell_type": "code",
   "execution_count": 79,
   "id": "44052265",
   "metadata": {},
   "outputs": [],
   "source": [
    "# L1 + L2 Regularization\n",
    "r_model = Sequential([Dense(6, input_dim=7, activation='relu', kernel_regularizer=L1L2(3, 2)),\\\n",
    "                      Dense(1,activation='sigmoid', kernel_regularizer=L1L2(3, 2))])\n",
    "r_model.compile(optimizer='adam', loss=tf.keras.losses.binary_crossentropy, metrics=['accuracy'])"
   ]
  },
  {
   "cell_type": "code",
   "execution_count": 80,
   "id": "fe20aae5",
   "metadata": {},
   "outputs": [
    {
     "name": "stdout",
     "output_type": "stream",
     "text": [
      "Epoch 1/2\n",
      "6553/6553 [==============================] - 9s 1ms/step - loss: 2.7561 - accuracy: 0.7227\n",
      "Epoch 2/2\n",
      "6553/6553 [==============================] - 8s 1ms/step - loss: 0.6109 - accuracy: 0.7195\n"
     ]
    },
    {
     "data": {
      "text/plain": [
       "<keras.callbacks.History at 0x7f129c874430>"
      ]
     },
     "execution_count": 80,
     "metadata": {},
     "output_type": "execute_result"
    }
   ],
   "source": [
    "r_model.fit(x_train_processed, y_train, batch_size=32, epochs=2, workers=8, use_multiprocessing=True)"
   ]
  },
  {
   "cell_type": "markdown",
   "id": "e7a1fe01",
   "metadata": {},
   "source": [
    "## Noise Injection"
   ]
  },
  {
   "cell_type": "code",
   "execution_count": 15,
   "id": "991e2545",
   "metadata": {},
   "outputs": [],
   "source": [
    "from tensorflow.keras.layers import GaussianNoise\n",
    "from tensorflow.keras.layers import Activation"
   ]
  },
  {
   "cell_type": "code",
   "execution_count": 115,
   "id": "5df837f4",
   "metadata": {},
   "outputs": [],
   "source": [
    "r_model = Sequential([Dense(6, input_dim=7, activation='relu'),GaussianNoise(0.1), \\\n",
    "                      Dense(1,activation='sigmoid', kernel_regularizer=L1L2(3, 2)), GaussianNoise(0.1)])\n",
    "r_model.compile(optimizer='adam', loss=tf.keras.losses.binary_crossentropy, metrics=['accuracy'])"
   ]
  },
  {
   "cell_type": "code",
   "execution_count": 86,
   "id": "6974fff8",
   "metadata": {},
   "outputs": [
    {
     "name": "stdout",
     "output_type": "stream",
     "text": [
      "Epoch 1/2\n",
      "6553/6553 [==============================] - 9s 1ms/step - loss: 1.1607 - accuracy: 0.6962\n",
      "Epoch 2/2\n",
      "6553/6553 [==============================] - 8s 1ms/step - loss: 0.6275 - accuracy: 0.7053\n"
     ]
    },
    {
     "data": {
      "text/plain": [
       "<keras.callbacks.History at 0x7f129c147370>"
      ]
     },
     "execution_count": 86,
     "metadata": {},
     "output_type": "execute_result"
    }
   ],
   "source": [
    "r_model.fit(x_train_processed, y_train, batch_size=32, epochs=2, workers=8, use_multiprocessing=True)"
   ]
  },
  {
   "cell_type": "code",
   "execution_count": 116,
   "id": "0f974f49",
   "metadata": {},
   "outputs": [
    {
     "data": {
      "image/png": "[encoded data removed]",
      "text/plain": [
       "<IPython.core.display.Image object>"
      ]
     },
     "execution_count": 116,
     "metadata": {},
     "output_type": "execute_result"
    }
   ],
   "source": [
    "plot_model(r_model, show_shapes=True)"
   ]
  },
  {
   "cell_type": "code",
   "execution_count": 87,
   "id": "1427c6d7",
   "metadata": {},
   "outputs": [],
   "source": [
    "# One can Inject Noise Before Applying the Activation function as well\n",
    "r_model = Sequential([Dense(6, input_dim=7),GaussianNoise(0.1), Activation('relu'),\\\n",
    "                      Dense(1), GaussianNoise(0.1),Activation('sigmoid')])\n",
    "r_model.compile(optimizer='adam', loss=tf.keras.losses.binary_crossentropy, metrics=['accuracy'])"
   ]
  },
  {
   "cell_type": "code",
   "execution_count": 88,
   "id": "db205128",
   "metadata": {},
   "outputs": [
    {
     "name": "stdout",
     "output_type": "stream",
     "text": [
      "Epoch 1/2\n",
      "6553/6553 [==============================] - 9s 1ms/step - loss: 0.1339 - accuracy: 0.9607\n",
      "Epoch 2/2\n",
      "6553/6553 [==============================] - 8s 1ms/step - loss: 0.0279 - accuracy: 0.9888\n"
     ]
    },
    {
     "data": {
      "text/plain": [
       "<keras.callbacks.History at 0x7f12707a2560>"
      ]
     },
     "execution_count": 88,
     "metadata": {},
     "output_type": "execute_result"
    }
   ],
   "source": [
    "r_model.fit(x_train_processed, y_train, batch_size=32, epochs=2, workers=8, use_multiprocessing=True)"
   ]
  },
  {
   "cell_type": "markdown",
   "id": "41555951",
   "metadata": {},
   "source": [
    "## Early Stopping"
   ]
  },
  {
   "cell_type": "code",
   "execution_count": 16,
   "id": "9e27d2fd",
   "metadata": {},
   "outputs": [],
   "source": [
    "from tensorflow.keras.callbacks import EarlyStopping"
   ]
  },
  {
   "cell_type": "code",
   "execution_count": 17,
   "id": "77b7f1b1",
   "metadata": {},
   "outputs": [],
   "source": [
    "cb_earlystop = EarlyStopping(monitor='val_loss',\n",
    "                            min_delta=0.01,\\\n",
    "                            patience=5,\n",
    "                            verbose=1,\n",
    "                            mode='auto',\n",
    "                            restore_best_weights=True,\n",
    "                            start_from_epoch=0)"
   ]
  },
  {
   "cell_type": "code",
   "execution_count": 92,
   "id": "4da58f43",
   "metadata": {},
   "outputs": [],
   "source": [
    "r_model = Sequential([Dense(6, input_dim=7, activation='relu'),\n",
    "                      Dense(1,activation='sigmoid')])\n",
    "r_model.compile(optimizer='adam', loss=tf.keras.losses.binary_crossentropy, metrics=['accuracy'])"
   ]
  },
  {
   "cell_type": "code",
   "execution_count": 96,
   "id": "e6e9b641",
   "metadata": {},
   "outputs": [
    {
     "name": "stdout",
     "output_type": "stream",
     "text": [
      "Epoch 1/100\n",
      "2097/2097 [==============================] - 4s 2ms/step - loss: 0.0315 - accuracy: 0.9917 - val_loss: 0.0679 - val_accuracy: 0.9758\n",
      "Epoch 2/100\n",
      "2097/2097 [==============================] - 4s 2ms/step - loss: 0.0287 - accuracy: 0.9930 - val_loss: 0.0779 - val_accuracy: 0.9774\n",
      "Epoch 3/100\n",
      "2097/2097 [==============================] - 4s 2ms/step - loss: 0.0263 - accuracy: 0.9933 - val_loss: 0.0912 - val_accuracy: 0.9777\n",
      "Epoch 4/100\n",
      "2097/2097 [==============================] - 4s 2ms/step - loss: 0.0242 - accuracy: 0.9934 - val_loss: 0.0962 - val_accuracy: 0.9774\n",
      "Epoch 5/100\n",
      "2097/2097 [==============================] - 4s 2ms/step - loss: 0.0225 - accuracy: 0.9934 - val_loss: 0.1036 - val_accuracy: 0.9783\n",
      "Epoch 6/100\n",
      "2071/2097 [============================>.] - ETA: 0s - loss: 0.0213 - accuracy: 0.9934Restoring model weights from the end of the best epoch: 1.\n",
      "2097/2097 [==============================] - 4s 2ms/step - loss: 0.0213 - accuracy: 0.9934 - val_loss: 0.1133 - val_accuracy: 0.9779\n",
      "Epoch 6: early stopping\n"
     ]
    }
   ],
   "source": [
    "history = r_model.fit(x_train_processed, y_train, epochs=100, batch_size=100, workers=8, use_multiprocessing=True, \n",
    "            validation_data=[x_test_processed, y_test], callbacks=[cb_earlystop])"
   ]
  },
  {
   "cell_type": "code",
   "execution_count": 97,
   "id": "5dcfc7d3",
   "metadata": {},
   "outputs": [
    {
     "data": {
      "text/plain": [
       "dict_keys(['loss', 'accuracy', 'val_loss', 'val_accuracy'])"
      ]
     },
     "execution_count": 97,
     "metadata": {},
     "output_type": "execute_result"
    }
   ],
   "source": [
    "history.history.keys()"
   ]
  },
  {
   "cell_type": "code",
   "execution_count": 101,
   "id": "77dbfb31",
   "metadata": {},
   "outputs": [
    {
     "data": {
      "image/png": "[encoded data removed]",
      "text/plain": [
       "<Figure size 640x480 with 1 Axes>"
      ]
     },
     "metadata": {},
     "output_type": "display_data"
    }
   ],
   "source": [
    "plt.plot(history.history['accuracy'], label='training Accuracy')\n",
    "plt.plot(history.history['val_accuracy'], label='Test Accuracy')\n",
    "plt.legend()\n",
    "plt.show()"
   ]
  },
  {
   "cell_type": "code",
   "execution_count": 102,
   "id": "8fbced3b",
   "metadata": {},
   "outputs": [
    {
     "data": {
      "image/png": "[encoded data removed]",
      "text/plain": [
       "<Figure size 640x480 with 1 Axes>"
      ]
     },
     "metadata": {},
     "output_type": "display_data"
    }
   ],
   "source": [
    "plt.plot(history.history['loss'], label='training Loss')\n",
    "plt.plot(history.history['val_loss'], label='Test Loss')\n",
    "plt.legend()\n",
    "plt.show()"
   ]
  },
  {
   "cell_type": "code",
   "execution_count": 105,
   "id": "ad91d3fc",
   "metadata": {},
   "outputs": [],
   "source": [
    "rne_model = Sequential([Dense(100, input_dim=7, activation='relu'),\n",
    "                      Dense(50,activation='relu'),Dense(1,activation='sigmoid')])\n",
    "rne_model.compile(optimizer='adam', loss=tf.keras.losses.binary_crossentropy, metrics=['accuracy'])"
   ]
  },
  {
   "cell_type": "code",
   "execution_count": 111,
   "id": "0de95c41",
   "metadata": {},
   "outputs": [
    {
     "name": "stdout",
     "output_type": "stream",
     "text": [
      "Epoch 1/50\n",
      "2097/2097 [==============================] - 5s 2ms/step - loss: 0.0448 - accuracy: 0.9890 - val_loss: 0.1043 - val_accuracy: 0.9750\n",
      "Epoch 2/50\n",
      "2097/2097 [==============================] - 4s 2ms/step - loss: 0.0202 - accuracy: 0.9932 - val_loss: 0.0865 - val_accuracy: 0.9770\n",
      "Epoch 3/50\n",
      "2097/2097 [==============================] - 4s 2ms/step - loss: 0.0170 - accuracy: 0.9945 - val_loss: 0.1058 - val_accuracy: 0.9798\n",
      "Epoch 4/50\n",
      "2097/2097 [==============================] - 4s 2ms/step - loss: 0.0155 - accuracy: 0.9957 - val_loss: 0.1348 - val_accuracy: 0.9736\n",
      "Epoch 5/50\n",
      "2097/2097 [==============================] - 4s 2ms/step - loss: 0.0141 - accuracy: 0.9964 - val_loss: 0.1298 - val_accuracy: 0.9830\n",
      "Epoch 6/50\n",
      "2097/2097 [==============================] - 4s 2ms/step - loss: 0.0123 - accuracy: 0.9968 - val_loss: 0.1266 - val_accuracy: 0.9859\n",
      "Epoch 7/50\n",
      "2097/2097 [==============================] - 4s 2ms/step - loss: 0.0117 - accuracy: 0.9970 - val_loss: 0.1349 - val_accuracy: 0.9862\n",
      "Epoch 8/50\n",
      "2097/2097 [==============================] - 4s 2ms/step - loss: 0.0115 - accuracy: 0.9971 - val_loss: 0.1291 - val_accuracy: 0.9883\n",
      "Epoch 9/50\n",
      "2097/2097 [==============================] - 4s 2ms/step - loss: 0.0109 - accuracy: 0.9973 - val_loss: 0.1468 - val_accuracy: 0.9881\n",
      "Epoch 10/50\n",
      "2097/2097 [==============================] - 4s 2ms/step - loss: 0.0109 - accuracy: 0.9973 - val_loss: 0.1452 - val_accuracy: 0.9909\n",
      "Epoch 11/50\n",
      "2097/2097 [==============================] - 4s 2ms/step - loss: 0.0109 - accuracy: 0.9972 - val_loss: 0.1495 - val_accuracy: 0.9902\n",
      "Epoch 12/50\n",
      "2097/2097 [==============================] - 4s 2ms/step - loss: 0.0108 - accuracy: 0.9973 - val_loss: 0.1624 - val_accuracy: 0.9886\n",
      "Epoch 13/50\n",
      "2097/2097 [==============================] - 4s 2ms/step - loss: 0.0103 - accuracy: 0.9974 - val_loss: 0.1598 - val_accuracy: 0.9889\n",
      "Epoch 14/50\n",
      "2097/2097 [==============================] - 4s 2ms/step - loss: 0.0104 - accuracy: 0.9974 - val_loss: 0.1836 - val_accuracy: 0.9812\n",
      "Epoch 15/50\n",
      "2097/2097 [==============================] - 4s 2ms/step - loss: 0.0104 - accuracy: 0.9974 - val_loss: 0.2413 - val_accuracy: 0.9435\n",
      "Epoch 16/50\n",
      "2097/2097 [==============================] - 4s 2ms/step - loss: 0.0100 - accuracy: 0.9974 - val_loss: 0.1613 - val_accuracy: 0.9891\n",
      "Epoch 17/50\n",
      "2097/2097 [==============================] - 4s 2ms/step - loss: 0.0099 - accuracy: 0.9974 - val_loss: 0.2375 - val_accuracy: 0.9506\n",
      "Epoch 18/50\n",
      "2097/2097 [==============================] - 4s 2ms/step - loss: 0.0100 - accuracy: 0.9974 - val_loss: 0.1684 - val_accuracy: 0.9873\n",
      "Epoch 19/50\n",
      "2097/2097 [==============================] - 4s 2ms/step - loss: 0.0095 - accuracy: 0.9975 - val_loss: 0.1843 - val_accuracy: 0.9876\n",
      "Epoch 20/50\n",
      "2097/2097 [==============================] - 4s 2ms/step - loss: 0.0093 - accuracy: 0.9975 - val_loss: 0.1726 - val_accuracy: 0.9897\n",
      "Epoch 21/50\n",
      "2097/2097 [==============================] - 4s 2ms/step - loss: 0.0094 - accuracy: 0.9975 - val_loss: 0.1733 - val_accuracy: 0.9891\n",
      "Epoch 22/50\n",
      "2097/2097 [==============================] - 4s 2ms/step - loss: 0.0091 - accuracy: 0.9976 - val_loss: 0.2020 - val_accuracy: 0.9876\n",
      "Epoch 23/50\n",
      "2097/2097 [==============================] - 4s 2ms/step - loss: 0.0088 - accuracy: 0.9976 - val_loss: 0.2040 - val_accuracy: 0.9876\n",
      "Epoch 24/50\n",
      "2097/2097 [==============================] - 4s 2ms/step - loss: 0.0088 - accuracy: 0.9976 - val_loss: 0.2204 - val_accuracy: 0.9836\n",
      "Epoch 25/50\n",
      "2097/2097 [==============================] - 4s 2ms/step - loss: 0.0083 - accuracy: 0.9977 - val_loss: 0.2405 - val_accuracy: 0.9788\n",
      "Epoch 26/50\n",
      "2097/2097 [==============================] - 4s 2ms/step - loss: 0.0083 - accuracy: 0.9977 - val_loss: 0.2341 - val_accuracy: 0.9875\n",
      "Epoch 27/50\n",
      "2097/2097 [==============================] - 4s 2ms/step - loss: 0.0083 - accuracy: 0.9977 - val_loss: 0.2128 - val_accuracy: 0.9904\n",
      "Epoch 28/50\n",
      "2097/2097 [==============================] - 4s 2ms/step - loss: 0.0079 - accuracy: 0.9977 - val_loss: 0.2278 - val_accuracy: 0.9891\n",
      "Epoch 29/50\n",
      "2097/2097 [==============================] - 4s 2ms/step - loss: 0.0077 - accuracy: 0.9978 - val_loss: 0.2265 - val_accuracy: 0.9910\n",
      "Epoch 30/50\n",
      "2097/2097 [==============================] - 4s 2ms/step - loss: 0.0076 - accuracy: 0.9978 - val_loss: 0.2502 - val_accuracy: 0.9883\n",
      "Epoch 31/50\n",
      "2097/2097 [==============================] - 4s 2ms/step - loss: 0.0074 - accuracy: 0.9979 - val_loss: 0.2342 - val_accuracy: 0.9884\n",
      "Epoch 32/50\n",
      "2097/2097 [==============================] - 4s 2ms/step - loss: 0.0073 - accuracy: 0.9979 - val_loss: 0.2506 - val_accuracy: 0.9911\n",
      "Epoch 33/50\n",
      "2097/2097 [==============================] - 4s 2ms/step - loss: 0.0066 - accuracy: 0.9981 - val_loss: 0.2632 - val_accuracy: 0.9827\n",
      "Epoch 34/50\n",
      "2097/2097 [==============================] - 4s 2ms/step - loss: 0.0065 - accuracy: 0.9982 - val_loss: 0.5829 - val_accuracy: 0.8939\n",
      "Epoch 35/50\n",
      "2097/2097 [==============================] - 4s 2ms/step - loss: 0.0067 - accuracy: 0.9981 - val_loss: 0.2368 - val_accuracy: 0.9902\n",
      "Epoch 36/50\n",
      "2097/2097 [==============================] - 4s 2ms/step - loss: 0.0063 - accuracy: 0.9982 - val_loss: 0.2741 - val_accuracy: 0.9881\n",
      "Epoch 37/50\n",
      "2097/2097 [==============================] - 4s 2ms/step - loss: 0.0061 - accuracy: 0.9983 - val_loss: 0.2584 - val_accuracy: 0.9893\n",
      "Epoch 38/50\n",
      "2097/2097 [==============================] - 4s 2ms/step - loss: 0.0060 - accuracy: 0.9983 - val_loss: 0.4675 - val_accuracy: 0.9314\n",
      "Epoch 39/50\n",
      "2097/2097 [==============================] - 4s 2ms/step - loss: 0.0060 - accuracy: 0.9984 - val_loss: 0.3011 - val_accuracy: 0.9864\n",
      "Epoch 40/50\n",
      "2097/2097 [==============================] - 4s 2ms/step - loss: 0.0057 - accuracy: 0.9985 - val_loss: 0.2902 - val_accuracy: 0.9898\n",
      "Epoch 41/50\n",
      "2097/2097 [==============================] - 4s 2ms/step - loss: 0.0057 - accuracy: 0.9985 - val_loss: 0.3247 - val_accuracy: 0.9816\n",
      "Epoch 42/50\n",
      "2097/2097 [==============================] - 4s 2ms/step - loss: 0.0057 - accuracy: 0.9985 - val_loss: 0.3071 - val_accuracy: 0.9768\n",
      "Epoch 43/50\n",
      "2097/2097 [==============================] - 4s 2ms/step - loss: 0.0056 - accuracy: 0.9984 - val_loss: 0.2899 - val_accuracy: 0.9882\n",
      "Epoch 44/50\n",
      "2097/2097 [==============================] - 4s 2ms/step - loss: 0.0058 - accuracy: 0.9985 - val_loss: 0.2868 - val_accuracy: 0.9890\n",
      "Epoch 45/50\n",
      "2097/2097 [==============================] - 4s 2ms/step - loss: 0.0052 - accuracy: 0.9986 - val_loss: 0.3169 - val_accuracy: 0.9855\n",
      "Epoch 46/50\n",
      "2097/2097 [==============================] - 4s 2ms/step - loss: 0.0054 - accuracy: 0.9986 - val_loss: 0.4204 - val_accuracy: 0.9456\n",
      "Epoch 47/50\n",
      "2097/2097 [==============================] - 4s 2ms/step - loss: 0.0051 - accuracy: 0.9986 - val_loss: 0.3184 - val_accuracy: 0.9748\n",
      "Epoch 48/50\n",
      "2097/2097 [==============================] - 4s 2ms/step - loss: 0.0049 - accuracy: 0.9987 - val_loss: 0.4221 - val_accuracy: 0.9512\n",
      "Epoch 49/50\n",
      "2097/2097 [==============================] - 4s 2ms/step - loss: 0.0050 - accuracy: 0.9987 - val_loss: 0.2843 - val_accuracy: 0.9882\n",
      "Epoch 50/50\n",
      "2097/2097 [==============================] - 4s 2ms/step - loss: 0.0049 - accuracy: 0.9987 - val_loss: 0.4625 - val_accuracy: 0.9411\n"
     ]
    }
   ],
   "source": [
    "history = rne_model.fit(x_train_processed, y_train, epochs=50, batch_size=100, workers=8, use_multiprocessing=True, \n",
    "            validation_data=[x_test_processed, y_test])"
   ]
  },
  {
   "cell_type": "code",
   "execution_count": 112,
   "id": "adbea25d",
   "metadata": {},
   "outputs": [
    {
     "name": "stdout",
     "output_type": "stream",
     "text": [
      "Epoch 1/50\n",
      "2097/2097 [==============================] - 4s 2ms/step - loss: 0.0052 - accuracy: 0.9987 - val_loss: 0.5901 - val_accuracy: 0.9171\n",
      "Epoch 2/50\n",
      "2097/2097 [==============================] - 4s 2ms/step - loss: 0.0047 - accuracy: 0.9987 - val_loss: 0.3534 - val_accuracy: 0.9667\n",
      "Epoch 3/50\n",
      "2097/2097 [==============================] - 4s 2ms/step - loss: 0.0046 - accuracy: 0.9988 - val_loss: 0.3484 - val_accuracy: 0.9749\n",
      "Epoch 4/50\n",
      "2097/2097 [==============================] - 4s 2ms/step - loss: 0.0049 - accuracy: 0.9988 - val_loss: 0.2972 - val_accuracy: 0.9767\n",
      "Epoch 5/50\n",
      "2097/2097 [==============================] - 4s 2ms/step - loss: 0.0043 - accuracy: 0.9988 - val_loss: 0.3083 - val_accuracy: 0.9821\n",
      "Epoch 6/50\n",
      "2097/2097 [==============================] - 4s 2ms/step - loss: 0.0045 - accuracy: 0.9987 - val_loss: 0.2897 - val_accuracy: 0.9858\n",
      "Epoch 7/50\n",
      "2097/2097 [==============================] - 4s 2ms/step - loss: 0.0044 - accuracy: 0.9988 - val_loss: 0.6884 - val_accuracy: 0.9106\n",
      "Epoch 8/50\n",
      "2097/2097 [==============================] - 4s 2ms/step - loss: 0.0043 - accuracy: 0.9989 - val_loss: 0.5714 - val_accuracy: 0.9339\n",
      "Epoch 9/50\n",
      "2065/2097 [============================>.] - ETA: 0s - loss: 0.0044 - accuracy: 0.9988Restoring model weights from the end of the best epoch: 4.\n",
      "2097/2097 [==============================] - 4s 2ms/step - loss: 0.0044 - accuracy: 0.9988 - val_loss: 1.3778 - val_accuracy: 0.8833\n",
      "Epoch 9: early stopping\n"
     ]
    }
   ],
   "source": [
    "# with early stopping\n",
    "history_es = rne_model.fit(x_train_processed, y_train, epochs=50, batch_size=100, workers=8, use_multiprocessing=True, \n",
    "            validation_data=[x_test_processed, y_test], callbacks=[cb_earlystop])"
   ]
  },
  {
   "cell_type": "code",
   "execution_count": 113,
   "id": "8c9a51af",
   "metadata": {},
   "outputs": [
    {
     "data": {
      "image/png": "[encoded data removed]",
      "text/plain": [
       "<Figure size 1000x500 with 2 Axes>"
      ]
     },
     "metadata": {},
     "output_type": "display_data"
    }
   ],
   "source": [
    "plt.figure(figsize=(10,5))\n",
    "plt.subplot(121)\n",
    "plt.plot(history.history['loss'], label='training loss')\n",
    "plt.plot(history.history['val_loss'], label='Validation loss')\n",
    "plt.legend()\n",
    "plt.title(\"Without early Stopping\")\n",
    "plt.subplot(122)\n",
    "plt.plot(history_es.history['loss'], label='Training loss')\n",
    "plt.plot(history_es.history['val_loss'], label='Validation loss')\n",
    "plt.legend()\n",
    "plt.title(\"With Early Stopping\")\n",
    "plt.show()"
   ]
  },
  {
   "cell_type": "markdown",
   "id": "489ba34e",
   "metadata": {},
   "source": [
    "## Dropout"
   ]
  },
  {
   "cell_type": "code",
   "execution_count": 18,
   "id": "a1f5f914",
   "metadata": {},
   "outputs": [],
   "source": [
    "from tensorflow.keras.layers import Dropout\n",
    "from tensorflow.keras.losses import binary_crossentropy"
   ]
  },
  {
   "cell_type": "code",
   "execution_count": 19,
   "id": "0a000ef3",
   "metadata": {},
   "outputs": [],
   "source": [
    "dropout_model = Sequential()\n",
    "dropout_model.add(Dense(10, input_dim=7, activation='elu'))\n",
    "dropout_model.add(Dropout(0.2))\n",
    "dropout_model.add(Dense(8, activation='elu'))\n",
    "dropout_model.add(Dropout(0.2))\n",
    "dropout_model.add(Dense(7, activation='elu'))\n",
    "dropout_model.add(Dropout(0.2))\n",
    "dropout_model.add(Dense(5, activation='elu'))\n",
    "dropout_model.add(Dropout(0.2))\n",
    "dropout_model.add(Dense(3, activation='elu'))\n",
    "dropout_model.add(Dense(1, activation='sigmoid'))\n",
    "dropout_model.compile(optimizer='adam', loss=binary_crossentropy, metrics=['accuracy'])"
   ]
  },
  {
   "cell_type": "code",
   "execution_count": 21,
   "id": "6d249257",
   "metadata": {},
   "outputs": [
    {
     "name": "stdout",
     "output_type": "stream",
     "text": [
      "Model: \"sequential\"\n",
      "_________________________________________________________________\n",
      " Layer (type)                Output Shape              Param #   \n",
      "=================================================================\n",
      " dense (Dense)               (None, 10)                80        \n",
      "                                                                 \n",
      " dropout (Dropout)           (None, 10)                0         \n",
      "                                                                 \n",
      " dense_1 (Dense)             (None, 8)                 88        \n",
      "                                                                 \n",
      " dropout_1 (Dropout)         (None, 8)                 0         \n",
      "                                                                 \n",
      " dense_2 (Dense)             (None, 7)                 63        \n",
      "                                                                 \n",
      " dropout_2 (Dropout)         (None, 7)                 0         \n",
      "                                                                 \n",
      " dense_3 (Dense)             (None, 5)                 40        \n",
      "                                                                 \n",
      " dropout_3 (Dropout)         (None, 5)                 0         \n",
      "                                                                 \n",
      " dense_4 (Dense)             (None, 3)                 18        \n",
      "                                                                 \n",
      " dense_5 (Dense)             (None, 1)                 4         \n",
      "                                                                 \n",
      "=================================================================\n",
      "Total params: 293\n",
      "Trainable params: 293\n",
      "Non-trainable params: 0\n",
      "_________________________________________________________________\n"
     ]
    }
   ],
   "source": [
    "dropout_model.summary()"
   ]
  },
  {
   "cell_type": "code",
   "execution_count": 22,
   "id": "6f6db53f",
   "metadata": {},
   "outputs": [
    {
     "data": {
      "image/png": "[encoded data removed]",
      "text/plain": [
       "<IPython.core.display.Image object>"
      ]
     },
     "execution_count": 22,
     "metadata": {},
     "output_type": "execute_result"
    }
   ],
   "source": [
    "plot_model(dropout_model, show_shapes=True)"
   ]
  },
  {
   "cell_type": "code",
   "execution_count": 25,
   "id": "1a5d9ef4",
   "metadata": {},
   "outputs": [
    {
     "name": "stdout",
     "output_type": "stream",
     "text": [
      "Epoch 1/50\n",
      "3270/3277 [============================>.] - ETA: 0s - loss: 0.1038 - accuracy: 0.9693\n",
      "Epoch 1: saving model to SavedModels/TaxiFare\n",
      "3277/3277 [==============================] - 9s 2ms/step - loss: 0.1037 - accuracy: 0.9694 - val_loss: 0.0738 - val_accuracy: 0.9785\n",
      "Epoch 2/50\n",
      "3272/3277 [============================>.] - ETA: 0s - loss: 0.0508 - accuracy: 0.9814\n",
      "Epoch 2: saving model to SavedModels/TaxiFare\n",
      "3277/3277 [==============================] - 7s 2ms/step - loss: 0.0508 - accuracy: 0.9814 - val_loss: 0.0432 - val_accuracy: 0.9824\n",
      "Epoch 3/50\n",
      "3274/3277 [============================>.] - ETA: 0s - loss: 0.0357 - accuracy: 0.9895\n",
      "Epoch 3: saving model to SavedModels/TaxiFare\n",
      "3277/3277 [==============================] - 7s 2ms/step - loss: 0.0357 - accuracy: 0.9895 - val_loss: 0.0413 - val_accuracy: 0.9913\n",
      "Epoch 4/50\n",
      "3268/3277 [============================>.] - ETA: 0s - loss: 0.0299 - accuracy: 0.9913\n",
      "Epoch 4: saving model to SavedModels/TaxiFare\n",
      "3277/3277 [==============================] - 7s 2ms/step - loss: 0.0299 - accuracy: 0.9913 - val_loss: 0.0477 - val_accuracy: 0.9920\n",
      "Epoch 5/50\n",
      "3263/3277 [============================>.] - ETA: 0s - loss: 0.0285 - accuracy: 0.9916\n",
      "Epoch 5: saving model to SavedModels/TaxiFare\n",
      "3277/3277 [==============================] - 7s 2ms/step - loss: 0.0285 - accuracy: 0.9916 - val_loss: 0.0489 - val_accuracy: 0.9917\n",
      "Epoch 6/50\n",
      "3267/3277 [============================>.] - ETA: 0s - loss: 0.0269 - accuracy: 0.9921\n",
      "Epoch 6: saving model to SavedModels/TaxiFare\n",
      "3277/3277 [==============================] - 7s 2ms/step - loss: 0.0269 - accuracy: 0.9921 - val_loss: 0.0336 - val_accuracy: 0.9928\n",
      "Epoch 7/50\n",
      "3248/3277 [============================>.] - ETA: 0s - loss: 0.0269 - accuracy: 0.9922\n",
      "Epoch 7: saving model to SavedModels/TaxiFare\n",
      "Restoring model weights from the end of the best epoch: 2.\n",
      "3277/3277 [==============================] - 7s 2ms/step - loss: 0.0269 - accuracy: 0.9922 - val_loss: 0.0470 - val_accuracy: 0.9924\n",
      "Epoch 7: early stopping\n"
     ]
    }
   ],
   "source": [
    "dropout_hist = dropout_model.fit(x_train_processed, y_train, batch_size=64, epochs=50, validation_data=[x_test_processed, y_test],\n",
    "                 callbacks=[checkpoint_cb, cb_earlystop])"
   ]
  },
  {
   "cell_type": "code",
   "execution_count": 26,
   "id": "ad61e0fa",
   "metadata": {},
   "outputs": [
    {
     "name": "stdout",
     "output_type": "stream",
     "text": [
      "2809/2809 [==============================] - 3s 1ms/step - loss: 0.0432 - accuracy: 0.9824\n"
     ]
    },
    {
     "data": {
      "text/plain": [
       "[0.04317902401089668, 0.9823505282402039]"
      ]
     },
     "execution_count": 26,
     "metadata": {},
     "output_type": "execute_result"
    }
   ],
   "source": [
    "dropout_model.evaluate(x_test_processed, y_test)"
   ]
  },
  {
   "cell_type": "code",
   "execution_count": 27,
   "id": "d0b4234a",
   "metadata": {},
   "outputs": [
    {
     "name": "stdout",
     "output_type": "stream",
     "text": [
      "2809/2809 [==============================] - 3s 981us/step\n"
     ]
    },
    {
     "data": {
      "text/plain": [
       "array([[0],\n",
       "       [0],\n",
       "       [0],\n",
       "       ...,\n",
       "       [1],\n",
       "       [1],\n",
       "       [0]])"
      ]
     },
     "execution_count": 27,
     "metadata": {},
     "output_type": "execute_result"
    }
   ],
   "source": [
    "np.around(dropout_model.predict(x_test_processed)).astype('int')"
   ]
  },
  {
   "cell_type": "markdown",
   "id": "1f8cd9cf",
   "metadata": {},
   "source": [
    "## Effect of Normalization on training"
   ]
  },
  {
   "cell_type": "code",
   "execution_count": 28,
   "id": "6dcd0554",
   "metadata": {},
   "outputs": [
    {
     "data": {
      "text/html": [
       "<div>\n",
       "<style scoped>\n",
       "    .dataframe tbody tr th:only-of-type {\n",
       "        vertical-align: middle;\n",
       "    }\n",
       "\n",
       "    .dataframe tbody tr th {\n",
       "        vertical-align: top;\n",
       "    }\n",
       "\n",
       "    .dataframe thead th {\n",
       "        text-align: right;\n",
       "    }\n",
       "</style>\n",
       "<table border=\"1\" class=\"dataframe\">\n",
       "  <thead>\n",
       "    <tr style=\"text-align: right;\">\n",
       "      <th></th>\n",
       "      <th>trip_duration</th>\n",
       "      <th>distance_traveled</th>\n",
       "      <th>num_of_passengers</th>\n",
       "      <th>fare</th>\n",
       "      <th>tip</th>\n",
       "      <th>miscellaneous_fees</th>\n",
       "      <th>total_fare</th>\n",
       "    </tr>\n",
       "  </thead>\n",
       "  <tbody>\n",
       "    <tr>\n",
       "      <th>0</th>\n",
       "      <td>748.0</td>\n",
       "      <td>2.75</td>\n",
       "      <td>1.0</td>\n",
       "      <td>75.00</td>\n",
       "      <td>24</td>\n",
       "      <td>6.300</td>\n",
       "      <td>105.300</td>\n",
       "    </tr>\n",
       "    <tr>\n",
       "      <th>1</th>\n",
       "      <td>1187.0</td>\n",
       "      <td>3.43</td>\n",
       "      <td>1.0</td>\n",
       "      <td>105.00</td>\n",
       "      <td>24</td>\n",
       "      <td>13.200</td>\n",
       "      <td>142.200</td>\n",
       "    </tr>\n",
       "    <tr>\n",
       "      <th>2</th>\n",
       "      <td>730.0</td>\n",
       "      <td>3.12</td>\n",
       "      <td>1.0</td>\n",
       "      <td>71.25</td>\n",
       "      <td>0</td>\n",
       "      <td>26.625</td>\n",
       "      <td>97.875</td>\n",
       "    </tr>\n",
       "    <tr>\n",
       "      <th>3</th>\n",
       "      <td>671.0</td>\n",
       "      <td>5.63</td>\n",
       "      <td>3.0</td>\n",
       "      <td>90.00</td>\n",
       "      <td>0</td>\n",
       "      <td>9.750</td>\n",
       "      <td>99.750</td>\n",
       "    </tr>\n",
       "    <tr>\n",
       "      <th>4</th>\n",
       "      <td>329.0</td>\n",
       "      <td>2.09</td>\n",
       "      <td>1.0</td>\n",
       "      <td>45.00</td>\n",
       "      <td>12</td>\n",
       "      <td>13.200</td>\n",
       "      <td>70.200</td>\n",
       "    </tr>\n",
       "    <tr>\n",
       "      <th>...</th>\n",
       "      <td>...</td>\n",
       "      <td>...</td>\n",
       "      <td>...</td>\n",
       "      <td>...</td>\n",
       "      <td>...</td>\n",
       "      <td>...</td>\n",
       "      <td>...</td>\n",
       "    </tr>\n",
       "    <tr>\n",
       "      <th>209668</th>\n",
       "      <td>1617.0</td>\n",
       "      <td>8.42</td>\n",
       "      <td>1.0</td>\n",
       "      <td>150.00</td>\n",
       "      <td>47</td>\n",
       "      <td>5.800</td>\n",
       "      <td>202.800</td>\n",
       "    </tr>\n",
       "    <tr>\n",
       "      <th>209669</th>\n",
       "      <td>438.0</td>\n",
       "      <td>1.29</td>\n",
       "      <td>1.0</td>\n",
       "      <td>48.75</td>\n",
       "      <td>12</td>\n",
       "      <td>34.575</td>\n",
       "      <td>95.325</td>\n",
       "    </tr>\n",
       "    <tr>\n",
       "      <th>209670</th>\n",
       "      <td>571.0</td>\n",
       "      <td>2.82</td>\n",
       "      <td>1.0</td>\n",
       "      <td>63.75</td>\n",
       "      <td>0</td>\n",
       "      <td>6.000</td>\n",
       "      <td>69.750</td>\n",
       "    </tr>\n",
       "    <tr>\n",
       "      <th>209671</th>\n",
       "      <td>491.0</td>\n",
       "      <td>2.16</td>\n",
       "      <td>1.0</td>\n",
       "      <td>56.25</td>\n",
       "      <td>0</td>\n",
       "      <td>13.500</td>\n",
       "      <td>69.750</td>\n",
       "    </tr>\n",
       "    <tr>\n",
       "      <th>209672</th>\n",
       "      <td>3614.0</td>\n",
       "      <td>33.72</td>\n",
       "      <td>1.0</td>\n",
       "      <td>337.50</td>\n",
       "      <td>0</td>\n",
       "      <td>2.250</td>\n",
       "      <td>339.750</td>\n",
       "    </tr>\n",
       "  </tbody>\n",
       "</table>\n",
       "<p>209673 rows × 7 columns</p>\n",
       "</div>"
      ],
      "text/plain": [
       "        trip_duration  distance_traveled  num_of_passengers    fare  tip  \\\n",
       "0               748.0               2.75                1.0   75.00   24   \n",
       "1              1187.0               3.43                1.0  105.00   24   \n",
       "2               730.0               3.12                1.0   71.25    0   \n",
       "3               671.0               5.63                3.0   90.00    0   \n",
       "4               329.0               2.09                1.0   45.00   12   \n",
       "...               ...                ...                ...     ...  ...   \n",
       "209668         1617.0               8.42                1.0  150.00   47   \n",
       "209669          438.0               1.29                1.0   48.75   12   \n",
       "209670          571.0               2.82                1.0   63.75    0   \n",
       "209671          491.0               2.16                1.0   56.25    0   \n",
       "209672         3614.0              33.72                1.0  337.50    0   \n",
       "\n",
       "        miscellaneous_fees  total_fare  \n",
       "0                    6.300     105.300  \n",
       "1                   13.200     142.200  \n",
       "2                   26.625      97.875  \n",
       "3                    9.750      99.750  \n",
       "4                   13.200      70.200  \n",
       "...                    ...         ...  \n",
       "209668               5.800     202.800  \n",
       "209669              34.575      95.325  \n",
       "209670               6.000      69.750  \n",
       "209671              13.500      69.750  \n",
       "209672               2.250     339.750  \n",
       "\n",
       "[209673 rows x 7 columns]"
      ]
     },
     "execution_count": 28,
     "metadata": {},
     "output_type": "execute_result"
    }
   ],
   "source": [
    "x_train # Not Normalized data"
   ]
  },
  {
   "cell_type": "code",
   "execution_count": 29,
   "id": "a3d4b530",
   "metadata": {},
   "outputs": [
    {
     "name": "stdout",
     "output_type": "stream",
     "text": [
      "Epoch 1/30\n",
      "6553/6553 [==============================] - 13s 2ms/step - loss: 0.6228 - accuracy: 0.7175 - val_loss: 0.5951 - val_accuracy: 0.7177\n",
      "Epoch 2/30\n",
      "6553/6553 [==============================] - 13s 2ms/step - loss: 0.4323 - accuracy: 0.8078 - val_loss: 1.6913 - val_accuracy: 0.3000\n",
      "Epoch 3/30\n",
      "6553/6553 [==============================] - 13s 2ms/step - loss: 0.1708 - accuracy: 0.9465 - val_loss: 2.1414 - val_accuracy: 0.3317\n",
      "Epoch 4/30\n",
      "6553/6553 [==============================] - 13s 2ms/step - loss: 0.1323 - accuracy: 0.9570 - val_loss: 2.0953 - val_accuracy: 0.3586\n",
      "Epoch 5/30\n",
      "6553/6553 [==============================] - 13s 2ms/step - loss: 0.1045 - accuracy: 0.9659 - val_loss: 1.6268 - val_accuracy: 0.4981\n",
      "Epoch 6/30\n",
      "6553/6553 [==============================] - 13s 2ms/step - loss: 0.0922 - accuracy: 0.9714 - val_loss: 0.3563 - val_accuracy: 0.8651\n",
      "Epoch 7/30\n",
      "6553/6553 [==============================] - 13s 2ms/step - loss: 0.0846 - accuracy: 0.9744 - val_loss: 0.4220 - val_accuracy: 0.8450\n",
      "Epoch 8/30\n",
      "6553/6553 [==============================] - 13s 2ms/step - loss: 0.0848 - accuracy: 0.9742 - val_loss: 0.9057 - val_accuracy: 0.7619\n",
      "Epoch 9/30\n",
      "6553/6553 [==============================] - 13s 2ms/step - loss: 0.0783 - accuracy: 0.9762 - val_loss: 0.6533 - val_accuracy: 0.8110\n",
      "Epoch 10/30\n",
      "6553/6553 [==============================] - 13s 2ms/step - loss: 0.0807 - accuracy: 0.9758 - val_loss: 0.2638 - val_accuracy: 0.9091\n",
      "Epoch 11/30\n",
      "6553/6553 [==============================] - 13s 2ms/step - loss: 0.0783 - accuracy: 0.9762 - val_loss: 1.2352 - val_accuracy: 0.6876\n",
      "Epoch 12/30\n",
      "6553/6553 [==============================] - 13s 2ms/step - loss: 0.0737 - accuracy: 0.9778 - val_loss: 0.8519 - val_accuracy: 0.7337\n",
      "Epoch 13/30\n",
      "6553/6553 [==============================] - 13s 2ms/step - loss: 0.0736 - accuracy: 0.9775 - val_loss: 0.6129 - val_accuracy: 0.8388\n",
      "Epoch 14/30\n",
      "6553/6553 [==============================] - 13s 2ms/step - loss: 0.0847 - accuracy: 0.9751 - val_loss: 0.2875 - val_accuracy: 0.9219\n",
      "Epoch 15/30\n",
      "6527/6553 [============================>.] - ETA: 0s - loss: 0.0770 - accuracy: 0.9763Restoring model weights from the end of the best epoch: 10.\n",
      "6553/6553 [==============================] - 13s 2ms/step - loss: 0.0769 - accuracy: 0.9763 - val_loss: 0.8376 - val_accuracy: 0.8012\n",
      "Epoch 15: early stopping\n"
     ]
    }
   ],
   "source": [
    "# Lets use Dropout_model itself\n",
    "# x_train => Unnormalized Data\n",
    "history_nonormal = dropout_model.fit(x_train, y_train, epochs=30, batch_size=32, validation_data=[x_test, y_test], callbacks=[cb_earlystop])"
   ]
  },
  {
   "cell_type": "code",
   "execution_count": 30,
   "id": "a501e9e5",
   "metadata": {},
   "outputs": [
    {
     "name": "stdout",
     "output_type": "stream",
     "text": [
      "Epoch 1/30\n",
      "6553/6553 [==============================] - 13s 2ms/step - loss: 0.1086 - accuracy: 0.9620 - val_loss: 0.0372 - val_accuracy: 0.9933\n",
      "Epoch 2/30\n",
      "6553/6553 [==============================] - 13s 2ms/step - loss: 0.0384 - accuracy: 0.9890 - val_loss: 0.0383 - val_accuracy: 0.9936\n",
      "Epoch 3/30\n",
      "6553/6553 [==============================] - 13s 2ms/step - loss: 0.0338 - accuracy: 0.9903 - val_loss: 0.0461 - val_accuracy: 0.9933\n",
      "Epoch 4/30\n",
      "6553/6553 [==============================] - 13s 2ms/step - loss: 0.0319 - accuracy: 0.9909 - val_loss: 0.0636 - val_accuracy: 0.9927\n",
      "Epoch 5/30\n",
      "6553/6553 [==============================] - 13s 2ms/step - loss: 0.0303 - accuracy: 0.9911 - val_loss: 0.0882 - val_accuracy: 0.9917\n",
      "Epoch 6/30\n",
      "6547/6553 [============================>.] - ETA: 0s - loss: 0.0301 - accuracy: 0.9919Restoring model weights from the end of the best epoch: 1.\n",
      "6553/6553 [==============================] - 13s 2ms/step - loss: 0.0301 - accuracy: 0.9919 - val_loss: 0.1061 - val_accuracy: 0.9915\n",
      "Epoch 6: early stopping\n"
     ]
    }
   ],
   "source": [
    "history_normal = dropout_model.fit(x_train_processed, y_train, epochs=30, batch_size=32, validation_data=[x_test_processed, y_test], callbacks=[cb_earlystop])"
   ]
  },
  {
   "cell_type": "code",
   "execution_count": 31,
   "id": "d6bcbd3d",
   "metadata": {},
   "outputs": [
    {
     "data": {
      "image/png": "[encoded data removed]",
      "text/plain": [
       "<Figure size 1000x500 with 2 Axes>"
      ]
     },
     "metadata": {},
     "output_type": "display_data"
    }
   ],
   "source": [
    "plt.figure(figsize=(10,5))\n",
    "plt.subplot(121)\n",
    "plt.plot(history_nonormal.history['loss'], label='training loss')\n",
    "plt.plot(history_nonormal.history['val_loss'], label='Validation loss')\n",
    "plt.legend()\n",
    "plt.title(\"Without Normalization\")\n",
    "plt.subplot(122)\n",
    "plt.plot(history_normal.history['loss'], label='Training loss')\n",
    "plt.plot(history_normal.history['val_loss'], label='Validation loss')\n",
    "plt.legend()\n",
    "plt.title(\"With Normalization\")\n",
    "plt.suptitle(\"Training Loss vs Validation Loss\")\n",
    "plt.show()"
   ]
  },
  {
   "cell_type": "code",
   "execution_count": 32,
   "id": "46054a9f",
   "metadata": {},
   "outputs": [
    {
     "data": {
      "image/png": "[encoded data removed]",
      "text/plain": [
       "<Figure size 1000x500 with 2 Axes>"
      ]
     },
     "metadata": {},
     "output_type": "display_data"
    }
   ],
   "source": [
    "plt.figure(figsize=(10,5))\n",
    "plt.subplot(121)\n",
    "plt.plot(history_nonormal.history['accuracy'], label='training Accuracy')\n",
    "plt.plot(history_nonormal.history['val_accuracy'], label='Validation Accuracy')\n",
    "plt.legend()\n",
    "plt.title(\"Without Normalization\")\n",
    "plt.subplot(122)\n",
    "plt.plot(history_normal.history['accuracy'], label='Training Accuracy')\n",
    "plt.plot(history_normal.history['val_accuracy'], label='Validation Accuracy')\n",
    "plt.legend()\n",
    "plt.title(\"With Normalization\")\n",
    "plt.suptitle(\"Training Accuracy vs Validation Accuracy\")\n",
    "plt.show()"
   ]
  },
  {
   "cell_type": "markdown",
   "id": "277dcfdc",
   "metadata": {},
   "source": [
    "##  Batch Normalization"
   ]
  },
  {
   "cell_type": "code",
   "execution_count": 19,
   "id": "65d58e90",
   "metadata": {},
   "outputs": [],
   "source": [
    "from tensorflow.keras.layers import BatchNormalization"
   ]
  },
  {
   "cell_type": "code",
   "execution_count": 34,
   "id": "20bb7a50",
   "metadata": {},
   "outputs": [],
   "source": [
    "bn_model = Sequential([Dense(10, input_dim=7, activation='elu'),BatchNormalization(),\n",
    "                      Dense(7, activation='relu'), BatchNormalization(),\n",
    "                      Dense(4, activation='selu'), BatchNormalization(),\n",
    "                      Dense(1, activation='sigmoid')])\n",
    "bn_model.compile(optimizer='adam', loss=tf.keras.losses.binary_crossentropy, metrics=['accuracy'])"
   ]
  },
  {
   "cell_type": "code",
   "execution_count": 35,
   "id": "79844b8c",
   "metadata": {},
   "outputs": [
    {
     "name": "stdout",
     "output_type": "stream",
     "text": [
      "Epoch 1/3\n",
      "6553/6553 [==============================] - 14s 2ms/step - loss: 0.0802 - accuracy: 0.9725\n",
      "Epoch 2/3\n",
      "6553/6553 [==============================] - 12s 2ms/step - loss: 0.0357 - accuracy: 0.9887\n",
      "Epoch 3/3\n",
      "6553/6553 [==============================] - 12s 2ms/step - loss: 0.0281 - accuracy: 0.9914\n"
     ]
    },
    {
     "data": {
      "text/plain": [
       "<keras.callbacks.History at 0x7ff628338a90>"
      ]
     },
     "execution_count": 35,
     "metadata": {},
     "output_type": "execute_result"
    }
   ],
   "source": [
    "bn_model.fit(x_train_processed, y_train, epochs=3)"
   ]
  },
  {
   "cell_type": "code",
   "execution_count": 36,
   "id": "fd07e3ba",
   "metadata": {},
   "outputs": [
    {
     "data": {
      "image/png": "[encoded data removed]",
      "text/plain": [
       "<IPython.core.display.Image object>"
      ]
     },
     "execution_count": 36,
     "metadata": {},
     "output_type": "execute_result"
    }
   ],
   "source": [
    "plot_model(bn_model, show_shapes=True)"
   ]
  },
  {
   "cell_type": "markdown",
   "id": "63f7c78f",
   "metadata": {},
   "source": [
    "## Weight Initialization"
   ]
  },
  {
   "cell_type": "code",
   "execution_count": 143,
   "id": "6f7ccbce",
   "metadata": {},
   "outputs": [],
   "source": [
    "# kernel_initializer will help in initalizing the weights"
   ]
  },
  {
   "cell_type": "code",
   "execution_count": 37,
   "id": "17f165f1",
   "metadata": {},
   "outputs": [],
   "source": [
    "bn_model = Sequential([Dense(10, input_dim=7, activation='elu', kernel_initializer='glorot_uniform'),\n",
    "                      Dense(7, activation='relu', kernel_initializer='glorot_normal'),\n",
    "                      Dense(4, activation='selu', kernel_initializer = 'he_normal'),\n",
    "                      Dense(1, activation='sigmoid', kernel_initializer='he_uniform')])\n",
    "bn_model.compile(optimizer='adam', loss=tf.keras.losses.binary_crossentropy, metrics=['accuracy'])"
   ]
  },
  {
   "cell_type": "code",
   "execution_count": 38,
   "id": "7d93b625",
   "metadata": {},
   "outputs": [
    {
     "name": "stdout",
     "output_type": "stream",
     "text": [
      "Epoch 1/3\n",
      "6553/6553 [==============================] - 10s 1ms/step - loss: 0.0554 - accuracy: 0.9827\n",
      "Epoch 2/3\n",
      "6553/6553 [==============================] - 9s 1ms/step - loss: 0.0211 - accuracy: 0.9935\n",
      "Epoch 3/3\n",
      "6553/6553 [==============================] - 9s 1ms/step - loss: 0.0161 - accuracy: 0.9954\n"
     ]
    },
    {
     "data": {
      "text/plain": [
       "<keras.callbacks.History at 0x7ff638211f90>"
      ]
     },
     "execution_count": 38,
     "metadata": {},
     "output_type": "execute_result"
    }
   ],
   "source": [
    "bn_model.fit(x_train_processed, y_train, epochs=3)"
   ]
  },
  {
   "cell_type": "code",
   "execution_count": 39,
   "id": "a87028d9",
   "metadata": {},
   "outputs": [],
   "source": [
    "## Custom initializer\n",
    "def custom_init(shape, dtype=None):\n",
    "    return tf.random.normal(shape, stddev=0.5, dtype=dtype)"
   ]
  },
  {
   "cell_type": "code",
   "execution_count": 20,
   "id": "e6db62cc",
   "metadata": {},
   "outputs": [],
   "source": [
    "from tensorflow.keras import initializers"
   ]
  },
  {
   "cell_type": "code",
   "execution_count": 41,
   "id": "97adccb4",
   "metadata": {},
   "outputs": [],
   "source": [
    "# Other Options, bias_initializer => initializes Bias\n",
    "bn_model = Sequential([Dense(10, input_dim=7, activation='elu', kernel_initializer='random_normal'),\n",
    "                      Dense(7, activation='relu', kernel_initializer=initializers.RandomNormal(mean=0, stddev=0.05)),\n",
    "                      Dense(4, activation='selu', kernel_initializer = initializers.RandomUniform(minval=-0.5, maxval=0.5),\n",
    "                            bias_initializer='zeros'),\n",
    "                      Dense(1, activation='sigmoid', kernel_initializer=custom_init)])\n",
    "bn_model.compile(optimizer='adam', loss=tf.keras.losses.binary_crossentropy, metrics=['accuracy'])"
   ]
  },
  {
   "cell_type": "code",
   "execution_count": 42,
   "id": "1e726b35",
   "metadata": {},
   "outputs": [
    {
     "name": "stdout",
     "output_type": "stream",
     "text": [
      "Epoch 1/3\n",
      "6553/6553 [==============================] - 10s 1ms/step - loss: 0.0452 - accuracy: 0.9851\n",
      "Epoch 2/3\n",
      "6553/6553 [==============================] - 9s 1ms/step - loss: 0.0231 - accuracy: 0.9929\n",
      "Epoch 3/3\n",
      "6553/6553 [==============================] - 9s 1ms/step - loss: 0.0221 - accuracy: 0.9930\n"
     ]
    },
    {
     "data": {
      "text/plain": [
       "<keras.callbacks.History at 0x7ff67b5538b0>"
      ]
     },
     "execution_count": 42,
     "metadata": {},
     "output_type": "execute_result"
    }
   ],
   "source": [
    "bn_model.fit(x_train_processed, y_train, epochs=3)"
   ]
  },
  {
   "cell_type": "markdown",
   "id": "616a9c6c",
   "metadata": {},
   "source": [
    "## Optimizers"
   ]
  },
  {
   "cell_type": "code",
   "execution_count": null,
   "id": "af4c05f9",
   "metadata": {},
   "outputs": [],
   "source": [
    "## SGD, with moemntum, with Nosterov, Adagrad, RMSProp, Adam, Nadam, Adamax, NADAMAX"
   ]
  },
  {
   "cell_type": "code",
   "execution_count": 47,
   "id": "fd73e6b2",
   "metadata": {},
   "outputs": [],
   "source": [
    "# SGD\n",
    "optimizer_model = Sequential([Dense(10, input_dim=7, activation='elu'),\n",
    "                      Dense(7, activation='relu'),\n",
    "                      Dense(4, activation='selu'),\n",
    "                      Dense(1, activation='sigmoid')])\n",
    "optimizer_model.compile(optimizer='sgd', loss=binary_crossentropy, metrics=['accuracy'])"
   ]
  },
  {
   "cell_type": "code",
   "execution_count": 48,
   "id": "c6b0dde7",
   "metadata": {},
   "outputs": [
    {
     "name": "stdout",
     "output_type": "stream",
     "text": [
      "Epoch 1/3\n",
      "6553/6553 [==============================] - 12s 2ms/step - loss: 0.0820 - accuracy: 0.9707 - val_loss: 0.0536 - val_accuracy: 0.9751\n",
      "Epoch 2/3\n",
      "6553/6553 [==============================] - 11s 2ms/step - loss: 0.0369 - accuracy: 0.9872 - val_loss: 0.0532 - val_accuracy: 0.9747\n",
      "Epoch 3/3\n",
      "6553/6553 [==============================] - 11s 2ms/step - loss: 0.0349 - accuracy: 0.9896 - val_loss: 0.0461 - val_accuracy: 0.9769\n"
     ]
    },
    {
     "data": {
      "text/plain": [
       "<keras.callbacks.History at 0x7ff5f8e2e1d0>"
      ]
     },
     "execution_count": 48,
     "metadata": {},
     "output_type": "execute_result"
    }
   ],
   "source": [
    "optimizer_model.fit(x_train_processed, y_train, epochs=3, validation_data=[x_test_processed, y_test])"
   ]
  },
  {
   "cell_type": "code",
   "execution_count": 49,
   "id": "8f5360e0",
   "metadata": {},
   "outputs": [],
   "source": [
    "# Adagrad\n",
    "optimizer_model = Sequential([Dense(10, input_dim=7, activation='elu'),\n",
    "                      Dense(7, activation='relu'),\n",
    "                      Dense(4, activation='selu'),\n",
    "                      Dense(1, activation='sigmoid')])\n",
    "optimizer_model.compile(optimizer='adagrad', loss=binary_crossentropy, metrics=['accuracy'])"
   ]
  },
  {
   "cell_type": "code",
   "execution_count": 50,
   "id": "d62bb71a",
   "metadata": {},
   "outputs": [
    {
     "name": "stdout",
     "output_type": "stream",
     "text": [
      "6553/6553 [==============================] - 12s 2ms/step - loss: 0.4909 - accuracy: 0.9151 - val_loss: 0.5231 - val_accuracy: 0.9453\n"
     ]
    },
    {
     "data": {
      "text/plain": [
       "<keras.callbacks.History at 0x7ff5f8d72980>"
      ]
     },
     "execution_count": 50,
     "metadata": {},
     "output_type": "execute_result"
    }
   ],
   "source": [
    "optimizer_model.fit(x_train_processed, y_train, epochs=1, validation_data=[x_test_processed, y_test])"
   ]
  },
  {
   "cell_type": "code",
   "execution_count": 51,
   "id": "3d5febcb",
   "metadata": {},
   "outputs": [],
   "source": [
    "# AdaDelta\n",
    "optimizer_model = Sequential([Dense(10, input_dim=7, activation='elu'),\n",
    "                      Dense(7, activation='relu'),\n",
    "                      Dense(4, activation='selu'),\n",
    "                      Dense(1, activation='sigmoid')])\n",
    "optimizer_model.compile(optimizer='adadelta', loss=binary_crossentropy, metrics=['accuracy'])"
   ]
  },
  {
   "cell_type": "code",
   "execution_count": 52,
   "id": "70c2b7b2",
   "metadata": {},
   "outputs": [
    {
     "name": "stdout",
     "output_type": "stream",
     "text": [
      "6553/6553 [==============================] - 13s 2ms/step - loss: 0.5274 - accuracy: 0.7312 - val_loss: 0.4536 - val_accuracy: 0.8854\n"
     ]
    },
    {
     "data": {
      "text/plain": [
       "<keras.callbacks.History at 0x7ff5f8cc97e0>"
      ]
     },
     "execution_count": 52,
     "metadata": {},
     "output_type": "execute_result"
    }
   ],
   "source": [
    "optimizer_model.fit(x_train_processed, y_train, epochs=1, validation_data=[x_test_processed, y_test])"
   ]
  },
  {
   "cell_type": "code",
   "execution_count": 53,
   "id": "c02a333f",
   "metadata": {},
   "outputs": [],
   "source": [
    "# RMSProp\n",
    "optimizer_model = Sequential([Dense(10, input_dim=7, activation='elu'),\n",
    "                      Dense(7, activation='relu'),\n",
    "                      Dense(4, activation='selu'),\n",
    "                      Dense(1, activation='sigmoid')])\n",
    "optimizer_model.compile(optimizer='RMSprop', loss=binary_crossentropy, metrics=['accuracy'])"
   ]
  },
  {
   "cell_type": "code",
   "execution_count": 54,
   "id": "628fd33e",
   "metadata": {},
   "outputs": [
    {
     "name": "stdout",
     "output_type": "stream",
     "text": [
      "6553/6553 [==============================] - 12s 2ms/step - loss: 0.0407 - accuracy: 0.9867 - val_loss: 0.1496 - val_accuracy: 0.9770\n"
     ]
    },
    {
     "data": {
      "text/plain": [
       "<keras.callbacks.History at 0x7ff5f8aafd60>"
      ]
     },
     "execution_count": 54,
     "metadata": {},
     "output_type": "execute_result"
    }
   ],
   "source": [
    "optimizer_model.fit(x_train_processed, y_train, epochs=1, validation_data=[x_test_processed, y_test])"
   ]
  },
  {
   "cell_type": "code",
   "execution_count": 55,
   "id": "5904813e",
   "metadata": {},
   "outputs": [],
   "source": [
    "# Adam\n",
    "optimizer_model = Sequential([Dense(10, input_dim=7, activation='elu'),\n",
    "                      Dense(7, activation='relu'),\n",
    "                      Dense(4, activation='selu'),\n",
    "                      Dense(1, activation='sigmoid')])\n",
    "optimizer_model.compile(optimizer='adam', loss=binary_crossentropy, metrics=['accuracy'])"
   ]
  },
  {
   "cell_type": "code",
   "execution_count": 56,
   "id": "fdc3a89d",
   "metadata": {},
   "outputs": [
    {
     "name": "stdout",
     "output_type": "stream",
     "text": [
      "6553/6553 [==============================] - 13s 2ms/step - loss: 0.0515 - accuracy: 0.9807 - val_loss: 0.0388 - val_accuracy: 0.9900\n"
     ]
    },
    {
     "data": {
      "text/plain": [
       "<keras.callbacks.History at 0x7ff5f885de40>"
      ]
     },
     "execution_count": 56,
     "metadata": {},
     "output_type": "execute_result"
    }
   ],
   "source": [
    "optimizer_model.fit(x_train_processed, y_train, epochs=1, validation_data=[x_test_processed, y_test])"
   ]
  },
  {
   "cell_type": "code",
   "execution_count": 57,
   "id": "86cac8c3",
   "metadata": {},
   "outputs": [],
   "source": [
    "# Nadam\n",
    "optimizer_model = Sequential([Dense(10, input_dim=7, activation='elu'),\n",
    "                      Dense(7, activation='relu'),\n",
    "                      Dense(4, activation='selu'),\n",
    "                      Dense(1, activation='sigmoid')])\n",
    "optimizer_model.compile(optimizer='nadam', loss=binary_crossentropy, metrics=['accuracy'])"
   ]
  },
  {
   "cell_type": "code",
   "execution_count": 58,
   "id": "e6d08361",
   "metadata": {},
   "outputs": [
    {
     "name": "stdout",
     "output_type": "stream",
     "text": [
      "6553/6553 [==============================] - 14s 2ms/step - loss: 0.0471 - accuracy: 0.9885 - val_loss: 0.0435 - val_accuracy: 0.9855\n"
     ]
    },
    {
     "data": {
      "text/plain": [
       "<keras.callbacks.History at 0x7ff5f8544dc0>"
      ]
     },
     "execution_count": 58,
     "metadata": {},
     "output_type": "execute_result"
    }
   ],
   "source": [
    "optimizer_model.fit(x_train_processed, y_train, epochs=1, validation_data=[x_test_processed, y_test])"
   ]
  },
  {
   "cell_type": "code",
   "execution_count": 59,
   "id": "c1374473",
   "metadata": {},
   "outputs": [],
   "source": [
    "# ADAMAX\n",
    "optimizer_model = Sequential([Dense(10, input_dim=7, activation='elu'),\n",
    "                      Dense(7, activation='relu'),\n",
    "                      Dense(4, activation='selu'),\n",
    "                      Dense(1, activation='sigmoid')])\n",
    "optimizer_model.compile(optimizer='adamax', loss=binary_crossentropy, metrics=['accuracy'])"
   ]
  },
  {
   "cell_type": "code",
   "execution_count": 60,
   "id": "820d9522",
   "metadata": {},
   "outputs": [
    {
     "name": "stdout",
     "output_type": "stream",
     "text": [
      "6553/6553 [==============================] - 12s 2ms/step - loss: 0.0855 - accuracy: 0.9636 - val_loss: 0.0764 - val_accuracy: 0.9737\n"
     ]
    },
    {
     "data": {
      "text/plain": [
       "<keras.callbacks.History at 0x7ff5f8243100>"
      ]
     },
     "execution_count": 60,
     "metadata": {},
     "output_type": "execute_result"
    }
   ],
   "source": [
    "optimizer_model.fit(x_train_processed, y_train, epochs=1, validation_data=[x_test_processed, y_test])"
   ]
  },
  {
   "cell_type": "code",
   "execution_count": 61,
   "id": "d8b139b8",
   "metadata": {},
   "outputs": [
    {
     "name": "stdout",
     "output_type": "stream",
     "text": [
      "6553/6553 [==============================] - 13s 2ms/step - loss: 0.0717 - accuracy: 0.9754 - val_loss: 0.0312 - val_accuracy: 0.9917\n"
     ]
    },
    {
     "data": {
      "text/plain": [
       "<keras.callbacks.History at 0x7ff5f0788160>"
      ]
     },
     "execution_count": 61,
     "metadata": {},
     "output_type": "execute_result"
    }
   ],
   "source": [
    "# NADAMAX\n",
    "optimizer_model = Sequential([Dense(10, input_dim=7, activation='elu'),\n",
    "                      Dense(7, activation='relu'),\n",
    "                      Dense(4, activation='selu'),\n",
    "                      Dense(1, activation='sigmoid')])\n",
    "optimizer_model.compile(optimizer='nadamax', loss=binary_crossentropy, metrics=['accuracy'])\n",
    "optimizer_model.fit(x_train_processed, y_train, epochs=1, validation_data=[x_test_processed, y_test])"
   ]
  },
  {
   "cell_type": "code",
   "execution_count": 21,
   "id": "7cc5f3ec",
   "metadata": {},
   "outputs": [],
   "source": [
    "# Changing Initial learning Rate for all Optimizisers\n",
    "from tensorflow.keras.optimizers import SGD, Adam, Adagrad, Adadelta, RMSprop, Nadam"
   ]
  },
  {
   "cell_type": "code",
   "execution_count": 24,
   "id": "35692aaa",
   "metadata": {},
   "outputs": [],
   "source": [
    "sgd_momentum = SGD(learning_rate=0.01, momentum=0.9) # SGD Momentum # Beta*Old_velocity+learningrate*gradient\n",
    "sgd_nesterov = SGD(learning_rate=0.005, nesterov=True)\n",
    "sgd_momentum2 = SGD(learning_rate=0.001, use_ema=True) # beta*old_velocity+(1-beta)*currentvalue\n",
    "sgd_nesterov_momentum = SGD(learning_rate=0.01, momentum=0.9, nesterov=True)"
   ]
  },
  {
   "cell_type": "code",
   "execution_count": 23,
   "id": "abc1e7c1",
   "metadata": {},
   "outputs": [
    {
     "name": "stdout",
     "output_type": "stream",
     "text": [
      "6553/6553 [==============================] - 12s 2ms/step - loss: 0.0273 - accuracy: 0.9909 - val_loss: 0.0298 - val_accuracy: 0.9923\n"
     ]
    },
    {
     "data": {
      "text/plain": [
       "<keras.callbacks.History at 0x7fb1ac31af80>"
      ]
     },
     "execution_count": 23,
     "metadata": {},
     "output_type": "execute_result"
    }
   ],
   "source": [
    "optimizer_model = Sequential([Dense(10, input_dim=7, activation='elu'),\n",
    "                      Dense(7, activation='relu'),\n",
    "                      Dense(4, activation='selu'),\n",
    "                      Dense(1, activation='sigmoid')])\n",
    "optimizer_model.compile(optimizer=sgd_momentum, loss=binary_crossentropy, metrics=['accuracy'])\n",
    "optimizer_model.fit(x_train_processed, y_train, epochs=1, validation_data=[x_test_processed, y_test])"
   ]
  },
  {
   "cell_type": "code",
   "execution_count": 25,
   "id": "613b1450",
   "metadata": {},
   "outputs": [
    {
     "name": "stdout",
     "output_type": "stream",
     "text": [
      "6553/6553 [==============================] - 12s 2ms/step - loss: 0.0974 - accuracy: 0.9706 - val_loss: 0.0639 - val_accuracy: 0.9748\n"
     ]
    },
    {
     "data": {
      "text/plain": [
       "<keras.callbacks.History at 0x7fb1ac1e09a0>"
      ]
     },
     "execution_count": 25,
     "metadata": {},
     "output_type": "execute_result"
    }
   ],
   "source": [
    "optimizer_model = Sequential([Dense(10, input_dim=7, activation='elu'),\n",
    "                      Dense(7, activation='relu'),\n",
    "                      Dense(4, activation='selu'),\n",
    "                      Dense(1, activation='sigmoid')])\n",
    "optimizer_model.compile(optimizer=sgd_nesterov, loss=binary_crossentropy, metrics=['accuracy'])\n",
    "optimizer_model.fit(x_train_processed, y_train, epochs=1, validation_data=[x_test_processed, y_test])"
   ]
  },
  {
   "cell_type": "code",
   "execution_count": 26,
   "id": "1cf86e1c",
   "metadata": {},
   "outputs": [
    {
     "name": "stdout",
     "output_type": "stream",
     "text": [
      "6553/6553 [==============================] - 12s 2ms/step - loss: 0.3001 - accuracy: 0.8549 - val_loss: 0.1288 - val_accuracy: 0.9757\n"
     ]
    },
    {
     "data": {
      "text/plain": [
       "<keras.callbacks.History at 0x7fb19c709e40>"
      ]
     },
     "execution_count": 26,
     "metadata": {},
     "output_type": "execute_result"
    }
   ],
   "source": [
    "optimizer_model = Sequential([Dense(10, input_dim=7, activation='elu'),\n",
    "                      Dense(7, activation='relu'),\n",
    "                      Dense(4, activation='selu'),\n",
    "                      Dense(1, activation='sigmoid')])\n",
    "optimizer_model.compile(optimizer=sgd_momentum2, loss=binary_crossentropy, metrics=['accuracy'])\n",
    "optimizer_model.fit(x_train_processed, y_train, epochs=1, validation_data=[x_test_processed, y_test])"
   ]
  },
  {
   "cell_type": "code",
   "execution_count": 27,
   "id": "978e9517",
   "metadata": {},
   "outputs": [
    {
     "name": "stdout",
     "output_type": "stream",
     "text": [
      "6553/6553 [==============================] - 12s 2ms/step - loss: 0.0307 - accuracy: 0.9895 - val_loss: 0.0676 - val_accuracy: 0.9866\n"
     ]
    },
    {
     "data": {
      "text/plain": [
       "<keras.callbacks.History at 0x7fb19c75e080>"
      ]
     },
     "execution_count": 27,
     "metadata": {},
     "output_type": "execute_result"
    }
   ],
   "source": [
    "optimizer_model = Sequential([Dense(10, input_dim=7, activation='elu'),\n",
    "                      Dense(7, activation='relu'),\n",
    "                      Dense(4, activation='selu'),\n",
    "                      Dense(1, activation='sigmoid')])\n",
    "optimizer_model.compile(optimizer=sgd_nesterov_momentum, loss=binary_crossentropy, metrics=['accuracy'])\n",
    "optimizer_model.fit(x_train_processed, y_train, epochs=1, validation_data=[x_test_processed, y_test])"
   ]
  },
  {
   "cell_type": "code",
   "execution_count": 28,
   "id": "610c688e",
   "metadata": {},
   "outputs": [
    {
     "name": "stdout",
     "output_type": "stream",
     "text": [
      "6553/6553 [==============================] - 13s 2ms/step - loss: 0.0243 - accuracy: 0.9925 - val_loss: 0.0280 - val_accuracy: 0.9933\n"
     ]
    },
    {
     "data": {
      "text/plain": [
       "<keras.callbacks.History at 0x7fb17ef3aa40>"
      ]
     },
     "execution_count": 28,
     "metadata": {},
     "output_type": "execute_result"
    }
   ],
   "source": [
    "adam = Adam(learning_rate=0.01, beta_1=0.9, beta_2=0.999)\n",
    "optimizer_model = Sequential([Dense(10, input_dim=7, activation='elu'),\n",
    "                      Dense(7, activation='relu'),\n",
    "                      Dense(4, activation='selu'),\n",
    "                      Dense(1, activation='sigmoid')])\n",
    "optimizer_model.compile(optimizer=adam, loss=binary_crossentropy, metrics=['accuracy'])\n",
    "optimizer_model.fit(x_train_processed, y_train, epochs=1, validation_data=[x_test_processed, y_test])"
   ]
  },
  {
   "cell_type": "code",
   "execution_count": 30,
   "id": "b1247846",
   "metadata": {},
   "outputs": [
    {
     "name": "stdout",
     "output_type": "stream",
     "text": [
      "6553/6553 [==============================] - 12s 2ms/step - loss: 0.0244 - accuracy: 0.9930 - val_loss: 0.1024 - val_accuracy: 0.9827\n"
     ]
    },
    {
     "data": {
      "text/plain": [
       "<keras.callbacks.History at 0x7fb17eb082b0>"
      ]
     },
     "execution_count": 30,
     "metadata": {},
     "output_type": "execute_result"
    }
   ],
   "source": [
    "rms_prop = RMSprop(learning_rate=0.01)\n",
    "optimizer_model = Sequential([Dense(10, input_dim=7, activation='elu'),\n",
    "                      Dense(7, activation='relu'),\n",
    "                      Dense(4, activation='selu'),\n",
    "                      Dense(1, activation='sigmoid')])\n",
    "optimizer_model.compile(optimizer=rms_prop, loss=binary_crossentropy, metrics=['accuracy'])\n",
    "optimizer_model.fit(x_train_processed, y_train, epochs=1, validation_data=[x_test_processed, y_test])"
   ]
  },
  {
   "cell_type": "code",
   "execution_count": 31,
   "id": "ba37e97f",
   "metadata": {},
   "outputs": [
    {
     "name": "stdout",
     "output_type": "stream",
     "text": [
      "6553/6553 [==============================] - 12s 2ms/step - loss: 0.0788 - accuracy: 0.9748 - val_loss: 0.1044 - val_accuracy: 0.9788\n"
     ]
    },
    {
     "data": {
      "text/plain": [
       "<keras.callbacks.History at 0x7fb17d66ee90>"
      ]
     },
     "execution_count": 31,
     "metadata": {},
     "output_type": "execute_result"
    }
   ],
   "source": [
    "# AdaGrad\n",
    "adagrad = Adagrad(learning_rate=0.01)\n",
    "optimizer_model = Sequential([Dense(10, input_dim=7, activation='elu'),\n",
    "                      Dense(7, activation='relu'),\n",
    "                      Dense(4, activation='selu'),\n",
    "                      Dense(1, activation='sigmoid')])\n",
    "optimizer_model.compile(optimizer=adagrad, loss=binary_crossentropy, metrics=['accuracy'])\n",
    "optimizer_model.fit(x_train_processed, y_train, epochs=1, validation_data=[x_test_processed, y_test])"
   ]
  },
  {
   "cell_type": "markdown",
   "id": "99636a24",
   "metadata": {},
   "source": [
    "## Loss Functions and Metrics"
   ]
  },
  {
   "cell_type": "code",
   "execution_count": 5,
   "id": "c08851ac",
   "metadata": {},
   "outputs": [],
   "source": [
    "from sklearn.datasets import make_classification, make_regression"
   ]
  },
  {
   "cell_type": "code",
   "execution_count": 6,
   "id": "3105b7bc",
   "metadata": {},
   "outputs": [],
   "source": [
    "from tensorflow.keras.losses import SparseCategoricalCrossentropy, MeanSquaredError, MeanAbsoluteError,Huber\n",
    "from tensorflow.keras.losses import CategoricalHinge, MeanSquaredLogarithmicError, MeanAbsolutePercentageError\n",
    "from tensorflow.keras.losses import CategoricalCrossentropy # Sparse version is faster, both are same. "
   ]
  },
  {
   "cell_type": "code",
   "execution_count": 7,
   "id": "b6223f69",
   "metadata": {},
   "outputs": [],
   "source": [
    "multiclass_x, multiclass_y = make_classification(n_samples=100000, n_features=20, n_classes=5, n_informative=8)\n",
    "regress_x, regress_y = make_regression(n_samples=100000,n_features=40, noise=5)"
   ]
  },
  {
   "cell_type": "code",
   "execution_count": 63,
   "id": "cacbb407",
   "metadata": {},
   "outputs": [],
   "source": [
    "## Multi Class Classification \n",
    "multi_class_model = Sequential([Dense(18, input_dim=20, activation='relu'),\n",
    "                               Dense(10, activation='selu'),\n",
    "                               Dense(5, activation='softmax')])\n",
    "multi_class_model.compile(optimizer='adam', loss=SparseCategoricalCrossentropy(from_logits=False), metrics=['accuracy'])"
   ]
  },
  {
   "cell_type": "code",
   "execution_count": 64,
   "id": "47c791f7",
   "metadata": {},
   "outputs": [
    {
     "name": "stdout",
     "output_type": "stream",
     "text": [
      "Epoch 1/30\n",
      "2188/2188 [==============================] - 4s 2ms/step - loss: 0.8351 - accuracy: 0.6887 - val_loss: 0.5776 - val_accuracy: 0.7942\n",
      "Epoch 2/30\n",
      "2188/2188 [==============================] - 4s 2ms/step - loss: 0.5100 - accuracy: 0.8205 - val_loss: 0.4702 - val_accuracy: 0.8388\n",
      "Epoch 3/30\n",
      "2188/2188 [==============================] - 4s 2ms/step - loss: 0.4478 - accuracy: 0.8444 - val_loss: 0.4418 - val_accuracy: 0.8490\n",
      "Epoch 4/30\n",
      "2188/2188 [==============================] - 4s 2ms/step - loss: 0.4204 - accuracy: 0.8569 - val_loss: 0.4166 - val_accuracy: 0.8612\n",
      "Epoch 5/30\n",
      "2188/2188 [==============================] - 4s 2ms/step - loss: 0.4047 - accuracy: 0.8627 - val_loss: 0.4075 - val_accuracy: 0.8650\n",
      "Epoch 6/30\n",
      "2188/2188 [==============================] - 4s 2ms/step - loss: 0.3942 - accuracy: 0.8679 - val_loss: 0.3927 - val_accuracy: 0.8712\n",
      "Epoch 7/30\n",
      "2188/2188 [==============================] - 4s 2ms/step - loss: 0.3847 - accuracy: 0.8719 - val_loss: 0.3846 - val_accuracy: 0.8749\n",
      "Epoch 8/30\n",
      "2188/2188 [==============================] - 4s 2ms/step - loss: 0.3776 - accuracy: 0.8750 - val_loss: 0.3780 - val_accuracy: 0.8773\n",
      "Epoch 9/30\n",
      "2188/2188 [==============================] - 4s 2ms/step - loss: 0.3712 - accuracy: 0.8775 - val_loss: 0.3751 - val_accuracy: 0.8791\n",
      "Epoch 10/30\n",
      "2188/2188 [==============================] - 4s 2ms/step - loss: 0.3656 - accuracy: 0.8795 - val_loss: 0.3700 - val_accuracy: 0.8819\n",
      "Epoch 11/30\n",
      "2188/2188 [==============================] - 4s 2ms/step - loss: 0.3602 - accuracy: 0.8826 - val_loss: 0.3645 - val_accuracy: 0.8822\n",
      "Epoch 12/30\n",
      "2188/2188 [==============================] - 4s 2ms/step - loss: 0.3550 - accuracy: 0.8832 - val_loss: 0.3633 - val_accuracy: 0.8825\n",
      "Epoch 13/30\n",
      "2188/2188 [==============================] - 4s 2ms/step - loss: 0.3500 - accuracy: 0.8850 - val_loss: 0.3552 - val_accuracy: 0.8860\n",
      "Epoch 14/30\n",
      "2188/2188 [==============================] - 4s 2ms/step - loss: 0.3460 - accuracy: 0.8872 - val_loss: 0.3487 - val_accuracy: 0.8892\n",
      "Epoch 15/30\n",
      "2188/2188 [==============================] - 4s 2ms/step - loss: 0.3410 - accuracy: 0.8895 - val_loss: 0.3445 - val_accuracy: 0.8907\n",
      "Epoch 16/30\n",
      "2188/2188 [==============================] - 4s 2ms/step - loss: 0.3371 - accuracy: 0.8905 - val_loss: 0.3399 - val_accuracy: 0.8928\n",
      "Epoch 17/30\n",
      "2188/2188 [==============================] - 4s 2ms/step - loss: 0.3334 - accuracy: 0.8929 - val_loss: 0.3363 - val_accuracy: 0.8954\n",
      "Epoch 18/30\n",
      "2188/2188 [==============================] - 4s 2ms/step - loss: 0.3294 - accuracy: 0.8948 - val_loss: 0.3351 - val_accuracy: 0.8963\n",
      "Epoch 19/30\n",
      "2188/2188 [==============================] - 4s 2ms/step - loss: 0.3266 - accuracy: 0.8954 - val_loss: 0.3313 - val_accuracy: 0.8978\n",
      "Epoch 20/30\n",
      "2188/2188 [==============================] - 4s 2ms/step - loss: 0.3232 - accuracy: 0.8969 - val_loss: 0.3309 - val_accuracy: 0.8973\n",
      "Epoch 21/30\n",
      "2188/2188 [==============================] - 4s 2ms/step - loss: 0.3202 - accuracy: 0.8991 - val_loss: 0.3304 - val_accuracy: 0.8977\n",
      "Epoch 22/30\n",
      "2188/2188 [==============================] - 4s 2ms/step - loss: 0.3180 - accuracy: 0.8999 - val_loss: 0.3219 - val_accuracy: 0.9037\n",
      "Epoch 23/30\n",
      "2188/2188 [==============================] - 4s 2ms/step - loss: 0.3155 - accuracy: 0.8996 - val_loss: 0.3238 - val_accuracy: 0.9019\n",
      "Epoch 24/30\n",
      "2188/2188 [==============================] - 4s 2ms/step - loss: 0.3138 - accuracy: 0.9014 - val_loss: 0.3210 - val_accuracy: 0.9022\n",
      "Epoch 25/30\n",
      "2188/2188 [==============================] - 4s 2ms/step - loss: 0.3126 - accuracy: 0.9026 - val_loss: 0.3185 - val_accuracy: 0.9037\n",
      "Epoch 26/30\n",
      "2188/2188 [==============================] - 4s 2ms/step - loss: 0.3110 - accuracy: 0.9024 - val_loss: 0.3153 - val_accuracy: 0.9036\n",
      "Epoch 27/30\n",
      "2188/2188 [==============================] - 4s 2ms/step - loss: 0.3098 - accuracy: 0.9021 - val_loss: 0.3141 - val_accuracy: 0.9061\n",
      "Epoch 28/30\n",
      "2188/2188 [==============================] - 4s 2ms/step - loss: 0.3085 - accuracy: 0.9038 - val_loss: 0.3138 - val_accuracy: 0.9045\n",
      "Epoch 29/30\n",
      "2188/2188 [==============================] - 4s 2ms/step - loss: 0.3071 - accuracy: 0.9037 - val_loss: 0.3149 - val_accuracy: 0.9053\n",
      "Epoch 30/30\n",
      "2188/2188 [==============================] - 4s 2ms/step - loss: 0.3067 - accuracy: 0.9035 - val_loss: 0.3158 - val_accuracy: 0.9038\n"
     ]
    },
    {
     "data": {
      "text/plain": [
       "<keras.callbacks.History at 0x7fb17d8c4310>"
      ]
     },
     "execution_count": 64,
     "metadata": {},
     "output_type": "execute_result"
    }
   ],
   "source": [
    "multi_class_model.fit(multiclass_x, multiclass_y, validation_split=0.3, epochs=30)"
   ]
  },
  {
   "cell_type": "code",
   "execution_count": 77,
   "id": "4e2e05c4",
   "metadata": {},
   "outputs": [],
   "source": [
    "regression_model = Sequential([Dense(30, input_dim=40, activation='relu'),\n",
    "                               Dense(10, activation='relu'),\n",
    "                               Dense(1, activation='linear')])\n",
    "regression_model.compile(optimizer='adam', loss=MeanSquaredError(), metrics=['MeanAbsolutePercentageError'])"
   ]
  },
  {
   "cell_type": "code",
   "execution_count": 78,
   "id": "3de1c522",
   "metadata": {},
   "outputs": [
    {
     "name": "stdout",
     "output_type": "stream",
     "text": [
      "Epoch 1/30\n",
      "2188/2188 [==============================] - 4s 2ms/step - loss: 6593.7471 - mean_absolute_percentage_error: 86.5181 - val_loss: 197.5602 - val_mean_absolute_percentage_error: 50.2213\n",
      "Epoch 2/30\n",
      "2188/2188 [==============================] - 4s 2ms/step - loss: 120.9952 - mean_absolute_percentage_error: 36.8463 - val_loss: 66.0399 - val_mean_absolute_percentage_error: 35.1476\n",
      "Epoch 3/30\n",
      "2188/2188 [==============================] - 4s 2ms/step - loss: 46.7546 - mean_absolute_percentage_error: 29.5376 - val_loss: 37.9654 - val_mean_absolute_percentage_error: 25.3497\n",
      "Epoch 4/30\n",
      "2188/2188 [==============================] - 4s 2ms/step - loss: 33.7745 - mean_absolute_percentage_error: 25.5708 - val_loss: 31.9017 - val_mean_absolute_percentage_error: 23.3038\n",
      "Epoch 5/30\n",
      "2188/2188 [==============================] - 4s 2ms/step - loss: 30.1775 - mean_absolute_percentage_error: 22.8706 - val_loss: 29.9244 - val_mean_absolute_percentage_error: 30.3750\n",
      "Epoch 6/30\n",
      "2188/2188 [==============================] - 4s 2ms/step - loss: 28.7167 - mean_absolute_percentage_error: 22.1046 - val_loss: 28.5822 - val_mean_absolute_percentage_error: 27.7804\n",
      "Epoch 7/30\n",
      "2188/2188 [==============================] - 4s 2ms/step - loss: 28.0784 - mean_absolute_percentage_error: 22.2880 - val_loss: 28.0221 - val_mean_absolute_percentage_error: 22.4727\n",
      "Epoch 8/30\n",
      "2188/2188 [==============================] - 4s 2ms/step - loss: 27.6545 - mean_absolute_percentage_error: 21.8108 - val_loss: 28.7471 - val_mean_absolute_percentage_error: 27.3781\n",
      "Epoch 9/30\n",
      "2188/2188 [==============================] - 4s 2ms/step - loss: 27.4509 - mean_absolute_percentage_error: 22.2573 - val_loss: 27.6518 - val_mean_absolute_percentage_error: 24.7559\n",
      "Epoch 10/30\n",
      "2188/2188 [==============================] - 4s 2ms/step - loss: 27.1983 - mean_absolute_percentage_error: 22.2951 - val_loss: 28.1497 - val_mean_absolute_percentage_error: 26.2850\n",
      "Epoch 11/30\n",
      "2188/2188 [==============================] - 4s 2ms/step - loss: 27.2302 - mean_absolute_percentage_error: 22.6488 - val_loss: 27.2042 - val_mean_absolute_percentage_error: 25.9869\n",
      "Epoch 12/30\n",
      "2188/2188 [==============================] - 4s 2ms/step - loss: 27.0378 - mean_absolute_percentage_error: 20.9492 - val_loss: 29.7313 - val_mean_absolute_percentage_error: 24.4337\n",
      "Epoch 13/30\n",
      "2188/2188 [==============================] - 4s 2ms/step - loss: 27.1210 - mean_absolute_percentage_error: 22.5617 - val_loss: 28.2453 - val_mean_absolute_percentage_error: 25.1283\n",
      "Epoch 14/30\n",
      "2188/2188 [==============================] - 4s 2ms/step - loss: 26.9685 - mean_absolute_percentage_error: 22.9457 - val_loss: 28.6854 - val_mean_absolute_percentage_error: 24.9370\n",
      "Epoch 15/30\n",
      "2188/2188 [==============================] - 4s 2ms/step - loss: 26.9127 - mean_absolute_percentage_error: 21.8236 - val_loss: 27.7803 - val_mean_absolute_percentage_error: 28.5669\n",
      "Epoch 16/30\n",
      "2188/2188 [==============================] - 4s 2ms/step - loss: 26.8270 - mean_absolute_percentage_error: 21.2699 - val_loss: 27.4018 - val_mean_absolute_percentage_error: 25.1243\n",
      "Epoch 17/30\n",
      "2188/2188 [==============================] - 4s 2ms/step - loss: 26.7743 - mean_absolute_percentage_error: 21.8005 - val_loss: 27.9768 - val_mean_absolute_percentage_error: 29.0894\n",
      "Epoch 18/30\n",
      "2188/2188 [==============================] - 4s 2ms/step - loss: 26.8331 - mean_absolute_percentage_error: 22.1542 - val_loss: 26.8839 - val_mean_absolute_percentage_error: 25.5411\n",
      "Epoch 19/30\n",
      "2188/2188 [==============================] - 4s 2ms/step - loss: 26.7794 - mean_absolute_percentage_error: 22.1955 - val_loss: 27.3343 - val_mean_absolute_percentage_error: 25.1353\n",
      "Epoch 20/30\n",
      "2188/2188 [==============================] - 4s 2ms/step - loss: 26.7500 - mean_absolute_percentage_error: 22.2329 - val_loss: 27.0640 - val_mean_absolute_percentage_error: 24.3038\n",
      "Epoch 21/30\n",
      "2188/2188 [==============================] - 4s 2ms/step - loss: 26.7563 - mean_absolute_percentage_error: 22.8772 - val_loss: 27.5049 - val_mean_absolute_percentage_error: 25.6135\n",
      "Epoch 22/30\n",
      "2188/2188 [==============================] - 4s 2ms/step - loss: 26.6507 - mean_absolute_percentage_error: 22.4468 - val_loss: 27.4380 - val_mean_absolute_percentage_error: 25.4373\n",
      "Epoch 23/30\n",
      "2188/2188 [==============================] - 4s 2ms/step - loss: 26.6315 - mean_absolute_percentage_error: 22.5734 - val_loss: 27.7503 - val_mean_absolute_percentage_error: 26.7295\n",
      "Epoch 24/30\n",
      "2188/2188 [==============================] - 4s 2ms/step - loss: 26.6663 - mean_absolute_percentage_error: 21.5967 - val_loss: 28.2084 - val_mean_absolute_percentage_error: 27.0176\n",
      "Epoch 25/30\n",
      "2188/2188 [==============================] - 4s 2ms/step - loss: 26.6613 - mean_absolute_percentage_error: 20.3349 - val_loss: 27.0808 - val_mean_absolute_percentage_error: 25.9236\n",
      "Epoch 26/30\n",
      "2188/2188 [==============================] - 4s 2ms/step - loss: 26.6986 - mean_absolute_percentage_error: 20.9389 - val_loss: 27.2038 - val_mean_absolute_percentage_error: 26.4434\n",
      "Epoch 27/30\n",
      "2188/2188 [==============================] - 4s 2ms/step - loss: 26.6277 - mean_absolute_percentage_error: 21.6950 - val_loss: 28.1488 - val_mean_absolute_percentage_error: 23.9480\n",
      "Epoch 28/30\n",
      "2188/2188 [==============================] - 4s 2ms/step - loss: 26.5630 - mean_absolute_percentage_error: 22.6154 - val_loss: 27.1567 - val_mean_absolute_percentage_error: 25.4262\n",
      "Epoch 29/30\n",
      "2188/2188 [==============================] - 4s 2ms/step - loss: 26.5341 - mean_absolute_percentage_error: 22.0667 - val_loss: 27.1819 - val_mean_absolute_percentage_error: 26.3428\n",
      "Epoch 30/30\n",
      "2188/2188 [==============================] - 4s 2ms/step - loss: 26.5307 - mean_absolute_percentage_error: 22.6046 - val_loss: 26.8722 - val_mean_absolute_percentage_error: 24.6703\n"
     ]
    },
    {
     "data": {
      "text/plain": [
       "<keras.callbacks.History at 0x7fb17c65f910>"
      ]
     },
     "execution_count": 78,
     "metadata": {},
     "output_type": "execute_result"
    }
   ],
   "source": [
    "regression_model.fit(regress_x, regress_y, validation_split=0.3, epochs=30)"
   ]
  },
  {
   "cell_type": "markdown",
   "id": "34fdd821",
   "metadata": {},
   "source": [
    "## TensorBoard"
   ]
  },
  {
   "cell_type": "code",
   "execution_count": 8,
   "id": "e586336f",
   "metadata": {},
   "outputs": [],
   "source": [
    "from tensorflow.keras.callbacks import TensorBoard"
   ]
  },
  {
   "cell_type": "code",
   "execution_count": 9,
   "id": "689ba092",
   "metadata": {},
   "outputs": [],
   "source": [
    "tensorboard = TensorBoard(log_dir=\"logs/\", histogram_freq=1)\n",
    "cp_model_check = ModelCheckpoint(filepath=\"chkpoint/model\")"
   ]
  },
  {
   "cell_type": "code",
   "execution_count": 10,
   "id": "1067579f",
   "metadata": {},
   "outputs": [],
   "source": [
    "multi_class_model = Sequential([Dense(18, input_dim=20, activation='relu'),\n",
    "                               Dense(10, activation='relu'),\n",
    "                               Dense(5, activation='softmax')])\n",
    "multi_class_model.compile(optimizer='adam', loss=SparseCategoricalCrossentropy(from_logits=False), metrics=['accuracy'])"
   ]
  },
  {
   "cell_type": "code",
   "execution_count": 12,
   "id": "68660fc9",
   "metadata": {},
   "outputs": [
    {
     "name": "stdout",
     "output_type": "stream",
     "text": [
      "Epoch 1/5\n",
      "3110/3125 [============================>.] - ETA: 0s - loss: 0.4861 - accuracy: 0.8329"
     ]
    },
    {
     "name": "stderr",
     "output_type": "stream",
     "text": [
      "WARNING:absl:Found untraced functions such as _update_step_xla while saving (showing 1 of 1). These functions will not be directly callable after loading.\n"
     ]
    },
    {
     "name": "stdout",
     "output_type": "stream",
     "text": [
      "INFO:tensorflow:Assets written to: chkpoint\\model\\assets\n"
     ]
    },
    {
     "name": "stderr",
     "output_type": "stream",
     "text": [
      "INFO:tensorflow:Assets written to: chkpoint\\model\\assets\n"
     ]
    },
    {
     "name": "stdout",
     "output_type": "stream",
     "text": [
      "3125/3125 [==============================] - 18s 6ms/step - loss: 0.4858 - accuracy: 0.8330\n",
      "Epoch 2/5\n",
      "3108/3125 [============================>.] - ETA: 0s - loss: 0.4649 - accuracy: 0.8415"
     ]
    },
    {
     "name": "stderr",
     "output_type": "stream",
     "text": [
      "WARNING:absl:Found untraced functions such as _update_step_xla while saving (showing 1 of 1). These functions will not be directly callable after loading.\n"
     ]
    },
    {
     "name": "stdout",
     "output_type": "stream",
     "text": [
      "INFO:tensorflow:Assets written to: chkpoint\\model\\assets\n"
     ]
    },
    {
     "name": "stderr",
     "output_type": "stream",
     "text": [
      "INFO:tensorflow:Assets written to: chkpoint\\model\\assets\n"
     ]
    },
    {
     "name": "stdout",
     "output_type": "stream",
     "text": [
      "3125/3125 [==============================] - 15s 5ms/step - loss: 0.4645 - accuracy: 0.8417\n",
      "Epoch 3/5\n",
      "3118/3125 [============================>.] - ETA: 0s - loss: 0.4425 - accuracy: 0.8501"
     ]
    },
    {
     "name": "stderr",
     "output_type": "stream",
     "text": [
      "WARNING:absl:Found untraced functions such as _update_step_xla while saving (showing 1 of 1). These functions will not be directly callable after loading.\n"
     ]
    },
    {
     "name": "stdout",
     "output_type": "stream",
     "text": [
      "INFO:tensorflow:Assets written to: chkpoint\\model\\assets\n"
     ]
    },
    {
     "name": "stderr",
     "output_type": "stream",
     "text": [
      "INFO:tensorflow:Assets written to: chkpoint\\model\\assets\n"
     ]
    },
    {
     "name": "stdout",
     "output_type": "stream",
     "text": [
      "3125/3125 [==============================] - 17s 5ms/step - loss: 0.4428 - accuracy: 0.8500\n",
      "Epoch 4/5\n",
      "3125/3125 [==============================] - ETA: 0s - loss: 0.4199 - accuracy: 0.8573"
     ]
    },
    {
     "name": "stderr",
     "output_type": "stream",
     "text": [
      "WARNING:absl:Found untraced functions such as _update_step_xla while saving (showing 1 of 1). These functions will not be directly callable after loading.\n"
     ]
    },
    {
     "name": "stdout",
     "output_type": "stream",
     "text": [
      "INFO:tensorflow:Assets written to: chkpoint\\model\\assets\n"
     ]
    },
    {
     "name": "stderr",
     "output_type": "stream",
     "text": [
      "INFO:tensorflow:Assets written to: chkpoint\\model\\assets\n"
     ]
    },
    {
     "name": "stdout",
     "output_type": "stream",
     "text": [
      "3125/3125 [==============================] - 18s 6ms/step - loss: 0.4199 - accuracy: 0.8573\n",
      "Epoch 5/5\n",
      "3116/3125 [============================>.] - ETA: 0s - loss: 0.4002 - accuracy: 0.8647"
     ]
    },
    {
     "name": "stderr",
     "output_type": "stream",
     "text": [
      "WARNING:absl:Found untraced functions such as _update_step_xla while saving (showing 1 of 1). These functions will not be directly callable after loading.\n"
     ]
    },
    {
     "name": "stdout",
     "output_type": "stream",
     "text": [
      "INFO:tensorflow:Assets written to: chkpoint\\model\\assets\n"
     ]
    },
    {
     "name": "stderr",
     "output_type": "stream",
     "text": [
      "INFO:tensorflow:Assets written to: chkpoint\\model\\assets\n"
     ]
    },
    {
     "name": "stdout",
     "output_type": "stream",
     "text": [
      "\b\b\b\b\b\b\b\b\b\b\b\b\b\b\b\b\b\b\b\b\b\b\b\b\b\b\b\b\b\b\b\b\b\b\b\b\b\b\b\b\b\b\b\b\b\b\b\b\b\b\b\b\b\b\b\b\b\b\b\b\b\b\b\b\b\b\b\b\b\b\b\b\b\b\b\b\b\b\b\b\b\b\b\b\b\b\r",
      "3125/3125 [==============================] - 17s 6ms/step - loss: 0.4003 - accuracy: 0.8647\n"
     ]
    },
    {
     "data": {
      "text/plain": [
       "<keras.callbacks.History at 0x16026f84b50>"
      ]
     },
     "execution_count": 12,
     "metadata": {},
     "output_type": "execute_result"
    }
   ],
   "source": [
    "multi_class_model.fit(multiclass_x, multiclass_y, epochs=5, callbacks=[tensorboard, cp_model_check])"
   ]
  },
  {
   "cell_type": "code",
   "execution_count": 20,
   "id": "06c5f382",
   "metadata": {},
   "outputs": [
    {
     "ename": "IndexError",
     "evalue": "list index out of range",
     "output_type": "error",
     "traceback": [
      "\u001b[1;31m---------------------------------------------------------------------------\u001b[0m",
      "\u001b[1;31mIndexError\u001b[0m                                Traceback (most recent call last)",
      "Cell \u001b[1;32mIn[20], line 1\u001b[0m\n\u001b[1;32m----> 1\u001b[0m \u001b[43mmulti_class_model\u001b[49m\u001b[38;5;241;43m.\u001b[39;49m\u001b[43mget_weights\u001b[49m\u001b[43m(\u001b[49m\u001b[43m)\u001b[49m\u001b[43m[\u001b[49m\u001b[38;5;241;43m6\u001b[39;49m\u001b[43m]\u001b[49m\n",
      "\u001b[1;31mIndexError\u001b[0m: list index out of range"
     ]
    }
   ],
   "source": [
    "# layer wise Weights\n",
    "# get_weights(layer)\n",
    "multi_class_model.get_weights()[0]"
   ]
  },
  {
   "cell_type": "code",
   "execution_count": 22,
   "id": "716e4d4e",
   "metadata": {},
   "outputs": [],
   "source": [
    "#multi_class_model.get_layer('name')"
   ]
  },
  {
   "cell_type": "code",
   "execution_count": 100,
   "id": "421e732a",
   "metadata": {},
   "outputs": [
    {
     "name": "stdout",
     "output_type": "stream",
     "text": [
      "The tensorboard extension is already loaded. To reload it, use:\n",
      "  %reload_ext tensorboard\n"
     ]
    },
    {
     "data": {
      "text/html": [
       "\n",
       "      <iframe id=\"tensorboard-frame-e0ba61771dff15ef\" width=\"100%\" height=\"800\" frameborder=\"0\">\n",
       "      </iframe>\n",
       "      <script>\n",
       "        (function() {\n",
       "          const frame = document.getElementById(\"tensorboard-frame-e0ba61771dff15ef\");\n",
       "          const url = new URL(\"/\", window.location);\n",
       "          const port = 6006;\n",
       "          if (port) {\n",
       "            url.port = port;\n",
       "          }\n",
       "          frame.src = url;\n",
       "        })();\n",
       "      </script>\n",
       "    "
      ],
      "text/plain": [
       "<IPython.core.display.HTML object>"
      ]
     },
     "metadata": {},
     "output_type": "display_data"
    }
   ],
   "source": [
    "## Tensorboard\n",
    "%load_ext tensorboard\n",
    "%tensorboard --logdir logs/"
   ]
  },
  {
   "cell_type": "code",
   "execution_count": 24,
   "id": "17f13646",
   "metadata": {},
   "outputs": [
    {
     "name": "stdout",
     "output_type": "stream",
     "text": [
      "Collecting keras-tuner\n",
      "  Downloading keras_tuner-1.3.5-py3-none-any.whl (176 kB)\n",
      "     ---------------------------------------- 0.0/176.1 kB ? eta -:--:--\n",
      "     -------------------------- ----------- 122.9/176.1 kB 3.5 MB/s eta 0:00:01\n",
      "     -------------------------------------- 176.1/176.1 kB 3.5 MB/s eta 0:00:00\n",
      "Requirement already satisfied: packaging in c:\\users\\sures\\anaconda3\\lib\\site-packages (from keras-tuner) (23.0)\n",
      "Collecting kt-legacy\n",
      "  Downloading kt_legacy-1.0.5-py3-none-any.whl (9.6 kB)\n",
      "Requirement already satisfied: requests in c:\\users\\sures\\anaconda3\\lib\\site-packages (from keras-tuner) (2.28.1)\n",
      "Requirement already satisfied: charset-normalizer<3,>=2 in c:\\users\\sures\\anaconda3\\lib\\site-packages (from requests->keras-tuner) (2.0.4)\n",
      "Requirement already satisfied: urllib3<1.27,>=1.21.1 in c:\\users\\sures\\anaconda3\\lib\\site-packages (from requests->keras-tuner) (1.26.15)\n",
      "Requirement already satisfied: idna<4,>=2.5 in c:\\users\\sures\\anaconda3\\lib\\site-packages (from requests->keras-tuner) (3.4)\n",
      "Requirement already satisfied: certifi>=2017.4.17 in c:\\users\\sures\\anaconda3\\lib\\site-packages (from requests->keras-tuner) (2023.5.7)\n",
      "Installing collected packages: kt-legacy, keras-tuner\n",
      "Successfully installed keras-tuner-1.3.5 kt-legacy-1.0.5\n"
     ]
    }
   ],
   "source": [
    "# Hyper Parameter Tuning\n",
    "!pip install keras-tuner"
   ]
  },
  {
   "cell_type": "markdown",
   "id": "dd1311b5",
   "metadata": {},
   "source": [
    "## Hyper Parameter Tuning"
   ]
  },
  {
   "cell_type": "code",
   "execution_count": 26,
   "id": "8d36ebe3",
   "metadata": {},
   "outputs": [
    {
     "name": "stdout",
     "output_type": "stream",
     "text": [
      "Warning: Your Kaggle API key is readable by other users on this system! To fix this, you can run 'chmod 600 /home/ubuntu/.kaggle/kaggle.json'\n",
      "Downloading pima-indians-diabetes-database.zip to /home/ubuntu/Tensorflow\n",
      "  0%|                                               | 0.00/8.91k [00:00<?, ?B/s]\n",
      "100%|██████████████████████████████████████| 8.91k/8.91k [00:00<00:00, 26.3MB/s]\n"
     ]
    }
   ],
   "source": [
    "!kaggle datasets download -d uciml/pima-indians-diabetes-database"
   ]
  },
  {
   "cell_type": "code",
   "execution_count": 27,
   "id": "8cdfcf84",
   "metadata": {},
   "outputs": [
    {
     "name": "stdout",
     "output_type": "stream",
     "text": [
      "Archive:  pima-indians-diabetes-database.zip\r\n",
      "  inflating: diabetes.csv            \r\n"
     ]
    }
   ],
   "source": [
    "!unzip pima-indians-diabetes-database.zip"
   ]
  },
  {
   "cell_type": "code",
   "execution_count": 29,
   "id": "b5401b6c",
   "metadata": {},
   "outputs": [],
   "source": [
    "diabetes = pd.read_csv(\"diabetes.csv\")"
   ]
  },
  {
   "cell_type": "code",
   "execution_count": 30,
   "id": "d3fcaacf",
   "metadata": {},
   "outputs": [
    {
     "data": {
      "text/plain": [
       "Pregnancies                 0\n",
       "Glucose                     0\n",
       "BloodPressure               0\n",
       "SkinThickness               0\n",
       "Insulin                     0\n",
       "BMI                         0\n",
       "DiabetesPedigreeFunction    0\n",
       "Age                         0\n",
       "Outcome                     0\n",
       "dtype: int64"
      ]
     },
     "execution_count": 30,
     "metadata": {},
     "output_type": "execute_result"
    }
   ],
   "source": [
    "diabetes.isnull().sum()"
   ]
  },
  {
   "cell_type": "code",
   "execution_count": 31,
   "id": "fa21daf0",
   "metadata": {},
   "outputs": [
    {
     "data": {
      "text/plain": [
       "Outcome\n",
       "0    500\n",
       "1    268\n",
       "Name: count, dtype: int64"
      ]
     },
     "execution_count": 31,
     "metadata": {},
     "output_type": "execute_result"
    }
   ],
   "source": [
    "diabetes['Outcome'].value_counts()"
   ]
  },
  {
   "cell_type": "code",
   "execution_count": 32,
   "id": "e9cb6382",
   "metadata": {},
   "outputs": [
    {
     "data": {
      "text/plain": [
       "Pregnancies                   int64\n",
       "Glucose                       int64\n",
       "BloodPressure                 int64\n",
       "SkinThickness                 int64\n",
       "Insulin                       int64\n",
       "BMI                         float64\n",
       "DiabetesPedigreeFunction    float64\n",
       "Age                           int64\n",
       "Outcome                       int64\n",
       "dtype: object"
      ]
     },
     "execution_count": 32,
     "metadata": {},
     "output_type": "execute_result"
    }
   ],
   "source": [
    "diabetes.dtypes"
   ]
  },
  {
   "cell_type": "code",
   "execution_count": 33,
   "id": "e9577c2c",
   "metadata": {},
   "outputs": [],
   "source": [
    "x_diabetes = diabetes.drop(['Outcome'], axis=1)\n",
    "y_diabetes = diabetes['Outcome']"
   ]
  },
  {
   "cell_type": "code",
   "execution_count": 34,
   "id": "eec6675f",
   "metadata": {},
   "outputs": [],
   "source": [
    "x_diabetes_train, x_diabetes_test, y_diabetes_train, y_diabetes_test = train_test_split(x_diabetes, y_diabetes, test_size=0.3, random_state=27)"
   ]
  },
  {
   "cell_type": "code",
   "execution_count": 35,
   "id": "75dd5eb2",
   "metadata": {},
   "outputs": [],
   "source": [
    "sc_dia = StandardScaler()\n",
    "x_diabetes_train_p = sc_dia.fit_transform(x_diabetes_train)\n",
    "x_diabetes_test_p = sc_dia.transform(x_diabetes_test)"
   ]
  },
  {
   "cell_type": "code",
   "execution_count": 41,
   "id": "d4849930",
   "metadata": {},
   "outputs": [],
   "source": [
    "from tensorflow.keras.metrics import Precision, Recall"
   ]
  },
  {
   "cell_type": "code",
   "execution_count": 59,
   "id": "ab7626a6",
   "metadata": {},
   "outputs": [],
   "source": [
    "## First Lets Try a Model\n",
    "diab_model = Sequential([Dense(5, input_dim=8, activation='elu'),\n",
    "                        Dense(3, input_dim=5, activation='relu'),\n",
    "                        Dense(1, activation='sigmoid')])\n",
    "diab_model.compile(optimizer='adam', loss='binary_crossentropy', metrics=['accuracy', Precision(),Recall()])"
   ]
  },
  {
   "cell_type": "code",
   "execution_count": 60,
   "id": "850a537b",
   "metadata": {},
   "outputs": [
    {
     "name": "stdout",
     "output_type": "stream",
     "text": [
      "Model: \"sequential_3\"\n",
      "_________________________________________________________________\n",
      " Layer (type)                Output Shape              Param #   \n",
      "=================================================================\n",
      " dense_9 (Dense)             (None, 5)                 45        \n",
      "                                                                 \n",
      " dense_10 (Dense)            (None, 3)                 18        \n",
      "                                                                 \n",
      " dense_11 (Dense)            (None, 1)                 4         \n",
      "                                                                 \n",
      "=================================================================\n",
      "Total params: 67\n",
      "Trainable params: 67\n",
      "Non-trainable params: 0\n",
      "_________________________________________________________________\n"
     ]
    }
   ],
   "source": [
    "diab_model.summary()"
   ]
  },
  {
   "cell_type": "code",
   "execution_count": 61,
   "id": "1422da47",
   "metadata": {},
   "outputs": [
    {
     "name": "stdout",
     "output_type": "stream",
     "text": [
      "Epoch 1/30\n",
      "17/17 [==============================] - 1s 18ms/step - loss: 0.8813 - accuracy: 0.4078 - precision_1: 0.3359 - recall_1: 0.6984 - val_loss: 0.8371 - val_accuracy: 0.4459 - val_precision_1: 0.3550 - val_recall_1: 0.7595\n",
      "Epoch 2/30\n",
      "17/17 [==============================] - 0s 4ms/step - loss: 0.8359 - accuracy: 0.4302 - precision_1: 0.3473 - recall_1: 0.7037 - val_loss: 0.7947 - val_accuracy: 0.4632 - val_precision_1: 0.3602 - val_recall_1: 0.7342\n",
      "Epoch 3/30\n",
      "17/17 [==============================] - 0s 4ms/step - loss: 0.7975 - accuracy: 0.4655 - precision_1: 0.3646 - recall_1: 0.6984 - val_loss: 0.7611 - val_accuracy: 0.5108 - val_precision_1: 0.3851 - val_recall_1: 0.7215\n",
      "Epoch 4/30\n",
      "17/17 [==============================] - 0s 4ms/step - loss: 0.7692 - accuracy: 0.4786 - precision_1: 0.3681 - recall_1: 0.6720 - val_loss: 0.7345 - val_accuracy: 0.5325 - val_precision_1: 0.3972 - val_recall_1: 0.7089\n",
      "Epoch 5/30\n",
      "17/17 [==============================] - 0s 4ms/step - loss: 0.7442 - accuracy: 0.5270 - precision_1: 0.3968 - recall_1: 0.6614 - val_loss: 0.7130 - val_accuracy: 0.5584 - val_precision_1: 0.4135 - val_recall_1: 0.6962\n",
      "Epoch 6/30\n",
      "17/17 [==============================] - 0s 4ms/step - loss: 0.7240 - accuracy: 0.5531 - precision_1: 0.4141 - recall_1: 0.6508 - val_loss: 0.6949 - val_accuracy: 0.5974 - val_precision_1: 0.4435 - val_recall_1: 0.6962\n",
      "Epoch 7/30\n",
      "17/17 [==============================] - 0s 4ms/step - loss: 0.7067 - accuracy: 0.5903 - precision_1: 0.4432 - recall_1: 0.6402 - val_loss: 0.6792 - val_accuracy: 0.6234 - val_precision_1: 0.4636 - val_recall_1: 0.6456\n",
      "Epoch 8/30\n",
      "17/17 [==============================] - 0s 4ms/step - loss: 0.6912 - accuracy: 0.6238 - precision_1: 0.4739 - recall_1: 0.6243 - val_loss: 0.6657 - val_accuracy: 0.6494 - val_precision_1: 0.4902 - val_recall_1: 0.6329\n",
      "Epoch 9/30\n",
      "17/17 [==============================] - 0s 4ms/step - loss: 0.6781 - accuracy: 0.6238 - precision_1: 0.4730 - recall_1: 0.6032 - val_loss: 0.6536 - val_accuracy: 0.6667 - val_precision_1: 0.5109 - val_recall_1: 0.5949\n",
      "Epoch 10/30\n",
      "17/17 [==============================] - 0s 4ms/step - loss: 0.6657 - accuracy: 0.6518 - precision_1: 0.5046 - recall_1: 0.5767 - val_loss: 0.6431 - val_accuracy: 0.6970 - val_precision_1: 0.5529 - val_recall_1: 0.5949\n",
      "Epoch 11/30\n",
      "17/17 [==============================] - 0s 4ms/step - loss: 0.6549 - accuracy: 0.6629 - precision_1: 0.5198 - recall_1: 0.5556 - val_loss: 0.6330 - val_accuracy: 0.7143 - val_precision_1: 0.5802 - val_recall_1: 0.5949\n",
      "Epoch 12/30\n",
      "17/17 [==============================] - 0s 4ms/step - loss: 0.6442 - accuracy: 0.6797 - precision_1: 0.5455 - recall_1: 0.5397 - val_loss: 0.6236 - val_accuracy: 0.7100 - val_precision_1: 0.5789 - val_recall_1: 0.5570\n",
      "Epoch 13/30\n",
      "17/17 [==============================] - 0s 4ms/step - loss: 0.6345 - accuracy: 0.6834 - precision_1: 0.5556 - recall_1: 0.5026 - val_loss: 0.6142 - val_accuracy: 0.7273 - val_precision_1: 0.6111 - val_recall_1: 0.5570\n",
      "Epoch 14/30\n",
      "17/17 [==============================] - 0s 4ms/step - loss: 0.6251 - accuracy: 0.6909 - precision_1: 0.5706 - recall_1: 0.4921 - val_loss: 0.6053 - val_accuracy: 0.7359 - val_precision_1: 0.6324 - val_recall_1: 0.5443\n",
      "Epoch 15/30\n",
      "17/17 [==============================] - 0s 4ms/step - loss: 0.6160 - accuracy: 0.6965 - precision_1: 0.5855 - recall_1: 0.4709 - val_loss: 0.5963 - val_accuracy: 0.7316 - val_precision_1: 0.6308 - val_recall_1: 0.5190\n",
      "Epoch 16/30\n",
      "17/17 [==============================] - 0s 4ms/step - loss: 0.6067 - accuracy: 0.6983 - precision_1: 0.5918 - recall_1: 0.4603 - val_loss: 0.5880 - val_accuracy: 0.7273 - val_precision_1: 0.6290 - val_recall_1: 0.4937\n",
      "Epoch 17/30\n",
      "17/17 [==============================] - 0s 4ms/step - loss: 0.5984 - accuracy: 0.7020 - precision_1: 0.6043 - recall_1: 0.4444 - val_loss: 0.5794 - val_accuracy: 0.7273 - val_precision_1: 0.6379 - val_recall_1: 0.4684\n",
      "Epoch 18/30\n",
      "17/17 [==============================] - 0s 4ms/step - loss: 0.5900 - accuracy: 0.7058 - precision_1: 0.6148 - recall_1: 0.4392 - val_loss: 0.5710 - val_accuracy: 0.7316 - val_precision_1: 0.6491 - val_recall_1: 0.4684\n",
      "Epoch 19/30\n",
      "17/17 [==============================] - 0s 4ms/step - loss: 0.5813 - accuracy: 0.7095 - precision_1: 0.6241 - recall_1: 0.4392 - val_loss: 0.5632 - val_accuracy: 0.7359 - val_precision_1: 0.6667 - val_recall_1: 0.4557\n",
      "Epoch 20/30\n",
      "17/17 [==============================] - 0s 4ms/step - loss: 0.5736 - accuracy: 0.7114 - precision_1: 0.6308 - recall_1: 0.4339 - val_loss: 0.5550 - val_accuracy: 0.7359 - val_precision_1: 0.6731 - val_recall_1: 0.4430\n",
      "Epoch 21/30\n",
      "17/17 [==============================] - 0s 4ms/step - loss: 0.5656 - accuracy: 0.7151 - precision_1: 0.6406 - recall_1: 0.4339 - val_loss: 0.5474 - val_accuracy: 0.7316 - val_precision_1: 0.6735 - val_recall_1: 0.4177\n",
      "Epoch 22/30\n",
      "17/17 [==============================] - 0s 4ms/step - loss: 0.5578 - accuracy: 0.7207 - precision_1: 0.6535 - recall_1: 0.4392 - val_loss: 0.5407 - val_accuracy: 0.7446 - val_precision_1: 0.6923 - val_recall_1: 0.4557\n",
      "Epoch 23/30\n",
      "17/17 [==============================] - 0s 4ms/step - loss: 0.5508 - accuracy: 0.7207 - precision_1: 0.6560 - recall_1: 0.4339 - val_loss: 0.5337 - val_accuracy: 0.7532 - val_precision_1: 0.7200 - val_recall_1: 0.4557\n",
      "Epoch 24/30\n",
      "17/17 [==============================] - 0s 4ms/step - loss: 0.5434 - accuracy: 0.7225 - precision_1: 0.6639 - recall_1: 0.4286 - val_loss: 0.5274 - val_accuracy: 0.7576 - val_precision_1: 0.7255 - val_recall_1: 0.4684\n",
      "Epoch 25/30\n",
      "17/17 [==============================] - 0s 4ms/step - loss: 0.5364 - accuracy: 0.7300 - precision_1: 0.6803 - recall_1: 0.4392 - val_loss: 0.5219 - val_accuracy: 0.7532 - val_precision_1: 0.7115 - val_recall_1: 0.4684\n",
      "Epoch 26/30\n",
      "17/17 [==============================] - 0s 4ms/step - loss: 0.5302 - accuracy: 0.7318 - precision_1: 0.6860 - recall_1: 0.4392 - val_loss: 0.5167 - val_accuracy: 0.7532 - val_precision_1: 0.7037 - val_recall_1: 0.4810\n",
      "Epoch 27/30\n",
      "17/17 [==============================] - 0s 4ms/step - loss: 0.5245 - accuracy: 0.7412 - precision_1: 0.7049 - recall_1: 0.4550 - val_loss: 0.5112 - val_accuracy: 0.7576 - val_precision_1: 0.7170 - val_recall_1: 0.4810\n",
      "Epoch 28/30\n",
      "17/17 [==============================] - 0s 4ms/step - loss: 0.5185 - accuracy: 0.7449 - precision_1: 0.7131 - recall_1: 0.4603 - val_loss: 0.5065 - val_accuracy: 0.7532 - val_precision_1: 0.7037 - val_recall_1: 0.4810\n",
      "Epoch 29/30\n",
      "17/17 [==============================] - 0s 4ms/step - loss: 0.5136 - accuracy: 0.7486 - precision_1: 0.7143 - recall_1: 0.4762 - val_loss: 0.5020 - val_accuracy: 0.7532 - val_precision_1: 0.7037 - val_recall_1: 0.4810\n",
      "Epoch 30/30\n",
      "17/17 [==============================] - 0s 4ms/step - loss: 0.5091 - accuracy: 0.7467 - precision_1: 0.7120 - recall_1: 0.4709 - val_loss: 0.4982 - val_accuracy: 0.7532 - val_precision_1: 0.7115 - val_recall_1: 0.4684\n"
     ]
    },
    {
     "data": {
      "text/plain": [
       "<keras.callbacks.History at 0x7f4d7df6bd30>"
      ]
     },
     "execution_count": 61,
     "metadata": {},
     "output_type": "execute_result"
    }
   ],
   "source": [
    "diab_model.fit(x_diabetes_train_p, y_diabetes_train, epochs=30, batch_size=32,validation_data=[x_diabetes_test_p, y_diabetes_test])"
   ]
  },
  {
   "cell_type": "markdown",
   "id": "e49762e1",
   "metadata": {},
   "source": [
    "## Took small datasets to do tuning Quickly\n",
    "1. Optimizer selection\n",
    "2. no of neurons in each layer, number of layers\n",
    "3. Activation function"
   ]
  },
  {
   "cell_type": "code",
   "execution_count": 27,
   "id": "82cd602b",
   "metadata": {},
   "outputs": [],
   "source": [
    "import kerastuner as kt"
   ]
  },
  {
   "cell_type": "code",
   "execution_count": 64,
   "id": "791d9362",
   "metadata": {},
   "outputs": [],
   "source": [
    "# Optimizer Selection\n",
    "def build_model(hp):\n",
    "    model = Sequential([Dense(5, input_dim=8, activation='elu'),\n",
    "                        Dense(3, activation='relu'),\n",
    "                        Dense(1, activation='sigmoid')])\n",
    "    optimizer = hp.Choice('Optimizer',values = ['adam','RMSprop','adagrad','sgd'])\n",
    "    model.compile(optimizer=optimizer, loss='binary_crossentropy', metrics=['accuracy'])\n",
    "    return model"
   ]
  },
  {
   "cell_type": "code",
   "execution_count": 88,
   "id": "dcbaf417",
   "metadata": {},
   "outputs": [],
   "source": [
    "# Random Search\n",
    "random_tuner = kt.RandomSearch(build_model, \n",
    "                              objective='val_accuracy',\n",
    "                              max_trials=5,\n",
    "                              directory='diabetes_model',\n",
    "                              project_name = \"diab_tuner\")"
   ]
  },
  {
   "cell_type": "code",
   "execution_count": 89,
   "id": "89e440e5",
   "metadata": {},
   "outputs": [
    {
     "name": "stdout",
     "output_type": "stream",
     "text": [
      "Trial 4 Complete [00h 00m 03s]\n",
      "val_accuracy: 0.6580086350440979\n",
      "\n",
      "Best val_accuracy So Far: 0.7748917937278748\n",
      "Total elapsed time: 00h 00m 10s\n",
      "INFO:tensorflow:Oracle triggered exit\n"
     ]
    }
   ],
   "source": [
    "random_tuner.search(x_diabetes_train_p, y_diabetes_train, epochs=100, validation_data=[x_diabetes_test_p, y_diabetes_test],\\\n",
    "                   callbacks=[cb_earlystop], verbose=2)"
   ]
  },
  {
   "cell_type": "code",
   "execution_count": 68,
   "id": "aa30c99a",
   "metadata": {},
   "outputs": [
    {
     "name": "stdout",
     "output_type": "stream",
     "text": [
      "Search space summary\n",
      "Default search space size: 1\n",
      "Optimizer (Choice)\n",
      "{'default': 'adam', 'conditions': [], 'values': ['adam', 'RMSprop', 'adagrad', 'sgd'], 'ordered': False}\n"
     ]
    }
   ],
   "source": [
    "random_tuner.search_space_summary()"
   ]
  },
  {
   "cell_type": "code",
   "execution_count": 71,
   "id": "fcb78b0b",
   "metadata": {},
   "outputs": [
    {
     "data": {
      "text/plain": [
       "{'Optimizer': 'adam'}"
      ]
     },
     "execution_count": 71,
     "metadata": {},
     "output_type": "execute_result"
    }
   ],
   "source": [
    "random_tuner.get_best_hyperparameters()[0].values"
   ]
  },
  {
   "cell_type": "code",
   "execution_count": 25,
   "id": "06b82480",
   "metadata": {},
   "outputs": [],
   "source": [
    "# Optimizer Selection, Number of Neurons in Each Layer\n",
    "def build_model(hp):\n",
    "    units1 = hp.Int(\"No_units1\", min_value=2,max_value=10,step=3)\n",
    "    units2 = hp.Int(\"No_units2\", min_value=2, max_value=8, step=3)\n",
    "    model = Sequential([Dense(units1, input_dim=8, activation='elu'),\n",
    "                        Dense(units2, activation='relu'),\n",
    "                        Dense(1, activation='sigmoid')])\n",
    "    optimizer = hp.Choice('Optimizer',values = ['adam','RMSprop','adagrad','sgd'])\n",
    "    model.compile(optimizer=optimizer, loss='binary_crossentropy', metrics=['accuracy'])\n",
    "    return model"
   ]
  },
  {
   "cell_type": "code",
   "execution_count": 28,
   "id": "1c305b2f",
   "metadata": {},
   "outputs": [],
   "source": [
    "# Grid Search\n",
    "grid_tuner = kt.GridSearch(build_model, \n",
    "                              objective='val_accuracy',\n",
    "                              directory='diabetes_model',\n",
    "                              project_name = \"diab_tuner_grid0\")"
   ]
  },
  {
   "cell_type": "code",
   "execution_count": 129,
   "id": "0c3eb5d4",
   "metadata": {},
   "outputs": [
    {
     "name": "stdout",
     "output_type": "stream",
     "text": [
      "Trial 36 Complete [00h 00m 03s]\n",
      "val_accuracy: 0.7705627679824829\n",
      "\n",
      "Best val_accuracy So Far: 0.7922077775001526\n",
      "Total elapsed time: 00h 01m 44s\n",
      "INFO:tensorflow:Oracle triggered exit\n"
     ]
    }
   ],
   "source": [
    "grid_tuner.search(x_diabetes_train_p, y_diabetes_train, epochs=100, validation_data=[x_diabetes_test_p, y_diabetes_test],\\\n",
    "                   callbacks=[cb_earlystop], verbose=2)"
   ]
  },
  {
   "cell_type": "code",
   "execution_count": 29,
   "id": "23de98f2",
   "metadata": {},
   "outputs": [
    {
     "name": "stdout",
     "output_type": "stream",
     "text": [
      "Search space summary\n",
      "Default search space size: 3\n",
      "No_units1 (Int)\n",
      "{'default': None, 'conditions': [], 'min_value': 2, 'max_value': 10, 'step': 3, 'sampling': 'linear'}\n",
      "No_units2 (Int)\n",
      "{'default': None, 'conditions': [], 'min_value': 2, 'max_value': 8, 'step': 3, 'sampling': 'linear'}\n",
      "Optimizer (Choice)\n",
      "{'default': 'adam', 'conditions': [], 'values': ['adam', 'RMSprop', 'adagrad', 'sgd'], 'ordered': False}\n"
     ]
    }
   ],
   "source": [
    "grid_tuner.search_space_summary()"
   ]
  },
  {
   "cell_type": "code",
   "execution_count": 96,
   "id": "af3b2818",
   "metadata": {},
   "outputs": [
    {
     "data": {
      "text/plain": [
       "{'No_units': 8, 'Optimizer': 'sgd'}"
      ]
     },
     "execution_count": 96,
     "metadata": {},
     "output_type": "execute_result"
    }
   ],
   "source": [
    "grid_tuner.get_best_hyperparameters()[0].values"
   ]
  },
  {
   "cell_type": "code",
   "execution_count": 107,
   "id": "6cb315f0",
   "metadata": {},
   "outputs": [
    {
     "data": {
      "text/plain": [
       "['diab_tuner', 'diab_tuner_grid']"
      ]
     },
     "execution_count": 107,
     "metadata": {},
     "output_type": "execute_result"
    }
   ],
   "source": [
    "import os\n",
    "os.listdir(\"diabetes_model\")"
   ]
  },
  {
   "cell_type": "code",
   "execution_count": 108,
   "id": "07549dbe",
   "metadata": {},
   "outputs": [
    {
     "data": {
      "text/plain": [
       "['trial_0', 'trial_3', 'oracle.json', 'trial_1', 'tuner0.json', 'trial_2']"
      ]
     },
     "execution_count": 108,
     "metadata": {},
     "output_type": "execute_result"
    }
   ],
   "source": [
    "os.listdir(\"diabetes_model/diab_tuner\")"
   ]
  },
  {
   "cell_type": "code",
   "execution_count": 110,
   "id": "fb27204b",
   "metadata": {},
   "outputs": [
    {
     "data": {
      "text/plain": [
       "['checkpoint.data-00000-of-00001',\n",
       " 'trial.json',\n",
       " 'checkpoint.index',\n",
       " 'checkpoint']"
      ]
     },
     "execution_count": 110,
     "metadata": {},
     "output_type": "execute_result"
    }
   ],
   "source": [
    "os.listdir(\"diabetes_model/diab_tuner/trial_0\")"
   ]
  },
  {
   "cell_type": "code",
   "execution_count": 117,
   "id": "d63a0f33",
   "metadata": {},
   "outputs": [],
   "source": [
    "trial = pd.read_json(\"diabetes_model/diab_tuner/trial_0/trial.json\")"
   ]
  },
  {
   "cell_type": "code",
   "execution_count": 118,
   "id": "89b733c2",
   "metadata": {},
   "outputs": [
    {
     "data": {
      "text/html": [
       "<div>\n",
       "<style scoped>\n",
       "    .dataframe tbody tr th:only-of-type {\n",
       "        vertical-align: middle;\n",
       "    }\n",
       "\n",
       "    .dataframe tbody tr th {\n",
       "        vertical-align: top;\n",
       "    }\n",
       "\n",
       "    .dataframe thead th {\n",
       "        text-align: right;\n",
       "    }\n",
       "</style>\n",
       "<table border=\"1\" class=\"dataframe\">\n",
       "  <thead>\n",
       "    <tr style=\"text-align: right;\">\n",
       "      <th></th>\n",
       "      <th>trial_id</th>\n",
       "      <th>hyperparameters</th>\n",
       "      <th>metrics</th>\n",
       "      <th>score</th>\n",
       "      <th>best_step</th>\n",
       "      <th>status</th>\n",
       "      <th>message</th>\n",
       "    </tr>\n",
       "  </thead>\n",
       "  <tbody>\n",
       "    <tr>\n",
       "      <th>space</th>\n",
       "      <td>0</td>\n",
       "      <td>[{'class_name': 'Choice', 'config': {'name': '...</td>\n",
       "      <td>NaN</td>\n",
       "      <td>0.670996</td>\n",
       "      <td>7</td>\n",
       "      <td>COMPLETED</td>\n",
       "      <td>NaN</td>\n",
       "    </tr>\n",
       "    <tr>\n",
       "      <th>values</th>\n",
       "      <td>0</td>\n",
       "      <td>{'Optimizer': 'RMSprop'}</td>\n",
       "      <td>NaN</td>\n",
       "      <td>0.670996</td>\n",
       "      <td>7</td>\n",
       "      <td>COMPLETED</td>\n",
       "      <td>NaN</td>\n",
       "    </tr>\n",
       "    <tr>\n",
       "      <th>metrics</th>\n",
       "      <td>0</td>\n",
       "      <td>NaN</td>\n",
       "      <td>{'loss': {'direction': 'min', 'observations': ...</td>\n",
       "      <td>0.670996</td>\n",
       "      <td>7</td>\n",
       "      <td>COMPLETED</td>\n",
       "      <td>NaN</td>\n",
       "    </tr>\n",
       "  </tbody>\n",
       "</table>\n",
       "</div>"
      ],
      "text/plain": [
       "         trial_id                                    hyperparameters  \\\n",
       "space           0  [{'class_name': 'Choice', 'config': {'name': '...   \n",
       "values          0                           {'Optimizer': 'RMSprop'}   \n",
       "metrics         0                                                NaN   \n",
       "\n",
       "                                                   metrics     score  \\\n",
       "space                                                  NaN  0.670996   \n",
       "values                                                 NaN  0.670996   \n",
       "metrics  {'loss': {'direction': 'min', 'observations': ...  0.670996   \n",
       "\n",
       "         best_step     status  message  \n",
       "space            7  COMPLETED      NaN  \n",
       "values           7  COMPLETED      NaN  \n",
       "metrics          7  COMPLETED      NaN  "
      ]
     },
     "execution_count": 118,
     "metadata": {},
     "output_type": "execute_result"
    }
   ],
   "source": [
    "trial"
   ]
  },
  {
   "cell_type": "code",
   "execution_count": 144,
   "id": "7a803225",
   "metadata": {},
   "outputs": [],
   "source": [
    "# Optimizer Selection, Number of Neurons in Each Layer, number of Layers\n",
    "def build_model(hp):\n",
    "    model =Sequential()\n",
    "    act = hp.Choice('Intial_Act', ['relu','selu','elu','softplus'])\n",
    "    model.add(Dense(hp.Int(\"First_Hidden\", min_value=1, max_value=10, step=3), input_dim=8, activation=act))\n",
    "    for i in range(hp.Int(\"Num_Layers\", min_value=0, max_value=10, step=1)):\n",
    "        model.add(Dense(hp.Int(\"units_\"+str(i), min_value=2, max_value=8,step=1), \n",
    "                              activation=hp.Choice(\"Activation_\"+str(i),\n",
    "                                                   values=['relu','selu','elu','softplus'])))\n",
    "    model.add(Dense(1, activation='sigmoid'))\n",
    "    optimizer = hp.Choice('Optimizer',values = ['adam','RMSprop','adagrad','sgd'])\n",
    "    model.compile(optimizer=optimizer, loss='binary_crossentropy', metrics=['accuracy'])\n",
    "    return model"
   ]
  },
  {
   "cell_type": "code",
   "execution_count": 145,
   "id": "7251d998",
   "metadata": {},
   "outputs": [
    {
     "name": "stdout",
     "output_type": "stream",
     "text": [
      "INFO:tensorflow:Reloading Tuner from diabetes_model/diab_tuner_all/tuner0.json\n"
     ]
    }
   ],
   "source": [
    "random_tuner = kt.RandomSearch(build_model, \n",
    "                              objective='val_accuracy',\n",
    "                              max_trials=10,\n",
    "                              directory='diabetes_model',\n",
    "                              project_name = \"diab_tuner_all\")"
   ]
  },
  {
   "cell_type": "code",
   "execution_count": 146,
   "id": "12fbcaef",
   "metadata": {},
   "outputs": [
    {
     "name": "stdout",
     "output_type": "stream",
     "text": [
      "Trial 10 Complete [00h 00m 03s]\n",
      "val_accuracy: 0.6969696879386902\n",
      "\n",
      "Best val_accuracy So Far: 0.761904776096344\n",
      "Total elapsed time: 00h 00m 22s\n",
      "INFO:tensorflow:Oracle triggered exit\n"
     ]
    }
   ],
   "source": [
    "random_tuner.search(x_diabetes_train_p, y_diabetes_train, epochs=100, validation_data=[x_diabetes_test_p, y_diabetes_test],\\\n",
    "                   callbacks=[cb_earlystop], verbose=2)"
   ]
  },
  {
   "cell_type": "code",
   "execution_count": 147,
   "id": "9cb3ffd6",
   "metadata": {},
   "outputs": [
    {
     "name": "stdout",
     "output_type": "stream",
     "text": [
      "Search space summary\n",
      "Default search space size: 16\n",
      "Intial_Act (Choice)\n",
      "{'default': 'relu', 'conditions': [], 'values': ['relu', 'selu', 'relu', 'softplus'], 'ordered': False}\n",
      "First_Hidden (Int)\n",
      "{'default': None, 'conditions': [], 'min_value': 1, 'max_value': 10, 'step': 3, 'sampling': 'linear'}\n",
      "Num_Layers (Int)\n",
      "{'default': None, 'conditions': [], 'min_value': 0, 'max_value': 10, 'step': 1, 'sampling': 'linear'}\n",
      "Optimizer (Choice)\n",
      "{'default': 'adam', 'conditions': [], 'values': ['adam', 'RMSprop', 'adagrad', 'sgd'], 'ordered': False}\n",
      "units_0 (Int)\n",
      "{'default': None, 'conditions': [], 'min_value': 2, 'max_value': 8, 'step': 1, 'sampling': 'linear'}\n",
      "Activation_0 (Choice)\n",
      "{'default': 'relu', 'conditions': [], 'values': ['relu', 'selu', 'relu', 'softplus'], 'ordered': False}\n",
      "units_1 (Int)\n",
      "{'default': None, 'conditions': [], 'min_value': 2, 'max_value': 8, 'step': 1, 'sampling': 'linear'}\n",
      "Activation_1 (Choice)\n",
      "{'default': 'relu', 'conditions': [], 'values': ['relu', 'selu', 'relu', 'softplus'], 'ordered': False}\n",
      "units_2 (Int)\n",
      "{'default': None, 'conditions': [], 'min_value': 2, 'max_value': 8, 'step': 1, 'sampling': 'linear'}\n",
      "Activation_2 (Choice)\n",
      "{'default': 'relu', 'conditions': [], 'values': ['relu', 'selu', 'relu', 'softplus'], 'ordered': False}\n",
      "units_3 (Int)\n",
      "{'default': None, 'conditions': [], 'min_value': 2, 'max_value': 8, 'step': 1, 'sampling': 'linear'}\n",
      "Activation_3 (Choice)\n",
      "{'default': 'relu', 'conditions': [], 'values': ['relu', 'selu', 'relu', 'softplus'], 'ordered': False}\n",
      "units_4 (Int)\n",
      "{'default': None, 'conditions': [], 'min_value': 2, 'max_value': 8, 'step': 1, 'sampling': 'linear'}\n",
      "Activation_4 (Choice)\n",
      "{'default': 'relu', 'conditions': [], 'values': ['relu', 'selu', 'relu', 'softplus'], 'ordered': False}\n",
      "units_5 (Int)\n",
      "{'default': None, 'conditions': [], 'min_value': 2, 'max_value': 8, 'step': 1, 'sampling': 'linear'}\n",
      "Activation_5 (Choice)\n",
      "{'default': 'relu', 'conditions': [], 'values': ['relu', 'selu', 'relu', 'softplus'], 'ordered': False}\n"
     ]
    }
   ],
   "source": [
    "random_tuner.search_space_summary()"
   ]
  },
  {
   "cell_type": "code",
   "execution_count": 148,
   "id": "ba849000",
   "metadata": {},
   "outputs": [
    {
     "data": {
      "text/plain": [
       "{'Intial_Act': 'relu',\n",
       " 'First_Hidden': 7,\n",
       " 'Num_Layers': 1,\n",
       " 'Optimizer': 'adam',\n",
       " 'units_0': 3,\n",
       " 'Activation_0': 'relu'}"
      ]
     },
     "execution_count": 148,
     "metadata": {},
     "output_type": "execute_result"
    }
   ],
   "source": [
    "random_tuner.get_best_hyperparameters()[0].values"
   ]
  },
  {
   "cell_type": "code",
   "execution_count": 155,
   "id": "b9055c19",
   "metadata": {},
   "outputs": [
    {
     "name": "stdout",
     "output_type": "stream",
     "text": [
      "8/8 [==============================] - 0s 2ms/step - loss: 0.5888 - accuracy: 0.7619\n"
     ]
    },
    {
     "data": {
      "text/plain": [
       "[0.5888029932975769, 0.761904776096344]"
      ]
     },
     "execution_count": 155,
     "metadata": {},
     "output_type": "execute_result"
    }
   ],
   "source": [
    "random_tuner.get_best_models()[0].evaluate(x_diabetes_test_p, y_diabetes_test)"
   ]
  },
  {
   "cell_type": "code",
   "execution_count": null,
   "id": "39266e45",
   "metadata": {},
   "outputs": [],
   "source": []
  }
 ],
 "metadata": {
  "kernelspec": {
   "display_name": "Python 3 (ipykernel)",
   "language": "python",
   "name": "python3"
  },
  "language_info": {
   "codemirror_mode": {
    "name": "ipython",
    "version": 3
   },
   "file_extension": ".py",
   "mimetype": "text/x-python",
   "name": "python",
   "nbconvert_exporter": "python",
   "pygments_lexer": "ipython3",
   "version": "3.11.4"
  }
 },
 "nbformat": 4,
 "nbformat_minor": 5
}
